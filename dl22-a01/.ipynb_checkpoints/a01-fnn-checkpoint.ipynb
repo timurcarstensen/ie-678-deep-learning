{
 "cells": [
  {
   "cell_type": "code",
   "execution_count": 1,
   "metadata": {},
   "outputs": [],
   "source": [
    "#\n",
    "# IE 678 Deep Learning, University of Mannheim\n",
    "# Author: Rainer Gemulla"
   ]
  },
  {
   "cell_type": "code",
   "execution_count": 161,
   "metadata": {},
   "outputs": [
    {
     "name": "stderr",
     "output_type": "stream",
     "text": [
      "/home/jovyan/ie-678-deep-learning/dl22-a01/a01-fnn-helper.py:26: DeprecationWarning: `np.int` is a deprecated alias for the builtin `int`. To silence this warning, use `int` by itself. Doing this will not modify any behavior and is safe. When replacing `np.int`, you may wish to use e.g. `np.int64` or `np.int32` to specify the precision. If you wish to review your current use, check the release note link for additional information.\n",
      "Deprecated in NumPy 1.20; for more details and guidance: https://numpy.org/devdocs/release/1.20.0-notes.html#deprecations\n",
      "  y = np.concatenate([np.zeros(n, dtype=np.int), np.ones(n, dtype=np.int)])\n"
     ]
    },
    {
     "data": {
      "text/plain": [
       "<Figure size 432x288 with 0 Axes>"
      ]
     },
     "metadata": {},
     "output_type": "display_data"
    }
   ],
   "source": [
    "import math\n",
    "import matplotlib as mpl\n",
    "import matplotlib.pyplot as plt\n",
    "import torch\n",
    "import torch.nn as nn\n",
    "import torch.nn.functional as F\n",
    "\n",
    "from IPython import get_ipython\n",
    "from util import nextplot\n",
    "%matplotlib inline\n",
    "# %matplotlib notebook\n",
    "get_ipython().magic('run -i \"a01-fnn-helper.py\"')"
   ]
  },
  {
   "cell_type": "markdown",
   "metadata": {},
   "source": [
    "# 1 Perceptrons"
   ]
  },
  {
   "cell_type": "code",
   "execution_count": 164,
   "metadata": {},
   "outputs": [
    {
     "data": {
      "image/png": "[encoded data removed]",
      "text/plain": [
       "<Figure size 432x288 with 1 Axes>"
      ]
     },
     "metadata": {
      "needs_background": "light"
     },
     "output_type": "display_data"
    }
   ],
   "source": [
    "# plot X1 (separable)\n",
    "nextplot()\n",
    "plot2(X1, y1)"
   ]
  },
  {
   "cell_type": "code",
   "execution_count": 163,
   "metadata": {},
   "outputs": [
    {
     "data": {
      "image/png": "[encoded data removed]",
      "text/plain": [
       "<Figure size 432x288 with 1 Axes>"
      ]
     },
     "metadata": {
      "needs_background": "light"
     },
     "output_type": "display_data"
    }
   ],
   "source": [
    "# plot X2 (not separable)\n",
    "nextplot()\n",
    "plot2(X2, y2)"
   ]
  },
  {
   "cell_type": "code",
   "execution_count": 165,
   "metadata": {},
   "outputs": [],
   "source": [
    "def pt_classify(X, w):\n",
    "    \"\"\"Classify using a perceptron.\n",
    "\n",
    "    Parameters\n",
    "    ----------\n",
    "    X : torch array of shape (N,D) or shape (D,)\n",
    "        Design matrix of test examples\n",
    "    w : torch array of shape (D,)\n",
    "        Weight vector\n",
    "\n",
    "    Returns\n",
    "    -------\n",
    "    torch array of shape (N,)\n",
    "        Predicted binary labels (either 0 or 1)\"\"\"\n",
    "    if X.dim() == 1:\n",
    "        X = X.view(1, -1)\n",
    "    return (X @ w >= 0).int()"
   ]
  },
  {
   "cell_type": "markdown",
   "metadata": {},
   "source": [
    "## 1a+c Learning"
   ]
  },
  {
   "cell_type": "code",
   "execution_count": 237,
   "metadata": {},
   "outputs": [],
   "source": [
    "def pt_train(X, y, maxepochs=100, pocket=False, w0=None):\n",
    "    \"\"\"Train a perceptron.\n",
    "\n",
    "    Parameters\n",
    "    ----------\n",
    "    X : torch array of shape (N,D)\n",
    "        Design matrix\n",
    "    y : torch array of shape (N,)\n",
    "        Binary labels (either 0 or 1)\n",
    "    maxepochs : int\n",
    "        Maximum number of passes through the training set before the algorithm\n",
    "        returns\n",
    "    pocket : bool\n",
    "       Whether to use the pocket algorithm (True) or the perceptron learning algorithm\n",
    "       (False)\n",
    "    w0 : torch array of shape (D,)\n",
    "        Initial weight vector\n",
    "\n",
    "    Returns\n",
    "    -------\n",
    "    torch array of shape (D,)\n",
    "        Fitted weight vector\"\"\"\n",
    "\n",
    "    N, D = X.shape\n",
    "    if w0 is None:  # initial weight vector\n",
    "        w0 = torch.zeros(D)\n",
    "    w = w0  # current weight vector\n",
    "    \n",
    "    train = X.clone()\n",
    "    train_target = y.clone()\n",
    "    train_target[train_target==0.0] = -1\n",
    "    \n",
    "    best_weight = w.clone()\n",
    "    best_weight_count = 0\n",
    "    \n",
    "    if pocket: \n",
    "        for _ in range(maxepochs):\n",
    "            for i in range(N):\n",
    "                r = torch.randint(high=N, size=(1,1)).item()\n",
    "                rand_sample = train[r]\n",
    "                rand_sample_target = train_target[r]\n",
    "\n",
    "                if  torch.sign(best_weight[1:]@rand_sample[1:])!= torch.sign(rand_sample_target):\n",
    "                    best_weight_count = 0\n",
    "                    best_weight[1:] += torch.sign(rand_sample_target) * rand_sample[1:] \n",
    "                elif torch.sign(best_weight[1:]@rand_sample[1:]) == torch.sign(rand_sample_target):\n",
    "                    best_weight_count += 1\n",
    "        best_weight[0] = 0.0\n",
    "        w = best_weight.clone()\n",
    "        \n",
    "    elif not pocket:\n",
    "        for _ in range(maxepochs):\n",
    "            for i, x in enumerate(train):\n",
    "                if  torch.sign(w[1:]@x[1:])!= torch.sign(train_target[i]):\n",
    "                    w[1:] += torch.sign(train_target[i]) * x[1:] \n",
    "    \n",
    "    print(f\"the best weight vector classified {best_weight_count} samples correctly in a row\")\n",
    "    return w\n",
    "        \n",
    "        "
   ]
  },
  {
   "cell_type": "markdown",
   "metadata": {},
   "source": [
    "## 1b+d Experimentation"
   ]
  },
  {
   "cell_type": "code",
   "execution_count": 234,
   "metadata": {},
   "outputs": [
    {
     "name": "stdout",
     "output_type": "stream",
     "text": [
      "0\n"
     ]
    },
    {
     "data": {
      "image/png": "[encoded data removed]",
      "text/plain": [
       "<Figure size 432x288 with 1 Axes>"
      ]
     },
     "metadata": {
      "needs_background": "light"
     },
     "output_type": "display_data"
    }
   ],
   "source": [
    "# Train a perceptron using the perceptron learning algorithm and plot decision\n",
    "# boundary. You should get a perfect classification here. The decision boundary\n",
    "# should not change if you run this multiple times.\n",
    "w = pt_train(X1, y1)\n",
    "nextplot()\n",
    "plot2(X1, y1)\n",
    "plot2db(w, label=\"perceptron\")"
   ]
  },
  {
   "cell_type": "code",
   "execution_count": 235,
   "metadata": {},
   "outputs": [
    {
     "name": "stdout",
     "output_type": "stream",
     "text": [
      "19557\n"
     ]
    },
    {
     "data": {
      "image/png": "[encoded data removed]",
      "text/plain": [
       "<Figure size 432x288 with 1 Axes>"
      ]
     },
     "metadata": {
      "needs_background": "light"
     },
     "output_type": "display_data"
    }
   ],
   "source": [
    "# Train a perceptron using the pocket algorithm and plot decision boundary. You\n",
    "# should get a perfect classification here (with high probability). The decision\n",
    "# boundary should change if you run this multiple times.\n",
    "w = pt_train(X1, y1, pocket=True)\n",
    "nextplot()\n",
    "plot2(X1, y1)\n",
    "plot2db(w, label=\"pocket\")"
   ]
  },
  {
   "cell_type": "code",
   "execution_count": 238,
   "metadata": {},
   "outputs": [
    {
     "name": "stdout",
     "output_type": "stream",
     "text": [
      "the best weight vector classified 360 samples correctly in a row\n",
      "the best weight vector classified 54 samples correctly in a row\n",
      "the best weight vector classified 26 samples correctly in a row\n",
      "the best weight vector classified 100 samples correctly in a row\n",
      "the best weight vector classified 27 samples correctly in a row\n",
      "the best weight vector classified 28 samples correctly in a row\n",
      "the best weight vector classified 8 samples correctly in a row\n",
      "the best weight vector classified 73 samples correctly in a row\n",
      "the best weight vector classified 12 samples correctly in a row\n",
      "the best weight vector classified 45 samples correctly in a row\n",
      "\n",
      "Misclassification rates (train)\n",
      "Perceptron (best result): 1\n",
      "Linear SVM (C=1)        : 3\n",
      "Logistic regression     : 3\n"
     ]
    },
    {
     "data": {
      "image/png": "[encoded data removed]",
      "text/plain": [
       "<Figure size 432x288 with 1 Axes>"
      ]
     },
     "metadata": {
      "needs_background": "light"
     },
     "output_type": "display_data"
    }
   ],
   "source": [
    "# Train 10 perceptrons starting with random weights. Also train logistic\n",
    "# regression and SVM. Plot all decision boundaries, and print the\n",
    "# misclassification rates (on training data). Try this with and without the\n",
    "# pocket algorithm.\n",
    "nextplot()\n",
    "plot2dbs(X2, y2, n=10, maxepochs=1000, pocket=True)"
   ]
  },
  {
   "cell_type": "markdown",
   "metadata": {},
   "source": [
    "# 2 Multi-Layer Feed-Forward Neural Networks"
   ]
  },
  {
   "cell_type": "markdown",
   "metadata": {},
   "source": [
    "## 2a Conjecture how an FNN fit will look like"
   ]
  },
  {
   "cell_type": "code",
   "execution_count": null,
   "metadata": {},
   "outputs": [],
   "source": [
    "# here is the one-dimensional dataset that we will use\n",
    "nextplot()\n",
    "plot1(X3, y3, label=\"train\")\n",
    "plot1(X3test, y3test, label=\"test\")\n",
    "plt.legend()"
   ]
  },
  {
   "cell_type": "markdown",
   "metadata": {},
   "source": [
    "## 2b Train with 2 hidden units"
   ]
  },
  {
   "cell_type": "code",
   "execution_count": null,
   "metadata": {},
   "outputs": [],
   "source": [
    "# Training code. You do not need to modify this code.\n",
    "train_bfgs = lambda model, **kwargs: train_scipy(X3, y3, model, **kwargs)\n",
    "\n",
    "\n",
    "def train3(\n",
    "    hidden_sizes, nreps=10, transfer=lambda: nn.Sigmoid(), train=train_bfgs, **kwargs\n",
    "):\n",
    "    \"\"\"Train an FNN.\n",
    "\n",
    "    hidden_sizes is a (possibly empty) list containing the sizes of the hidden layer(s).\n",
    "    nreps refers to the number of repetitions.\n",
    "\n",
    "    \"\"\"\n",
    "    best_model = None\n",
    "    best_cost = math.inf\n",
    "    for rep in range(nreps):\n",
    "        model = fnn_model([1] + hidden_sizes + [1], transfer)\n",
    "        print(f\"Repetition {rep: 2d}: \", end=\"\")\n",
    "        model = train(model, **kwargs)\n",
    "        mse = F.mse_loss(y3, model(X3)).item()\n",
    "        if mse < best_cost:\n",
    "            best_model = model\n",
    "            best_cost = mse\n",
    "        print(f\"best_cost={best_cost:.3f}\")\n",
    "\n",
    "    return best_model"
   ]
  },
  {
   "cell_type": "code",
   "execution_count": null,
   "metadata": {},
   "outputs": [],
   "source": [
    "# Let's fit the model with one hidden layer consisting of 2 units.\n",
    "model = train3([2], nreps=1)\n",
    "print(\"Training error:\", F.mse_loss(y3, model(X3)).item())\n",
    "print(\"Test error    :\", F.mse_loss(y3test, model(X3test)).item())"
   ]
  },
  {
   "cell_type": "code",
   "execution_count": null,
   "metadata": {},
   "outputs": [],
   "source": [
    "# plot the data and the fit\n",
    "nextplot()\n",
    "plot1(X3, y3, label=\"train\")\n",
    "plot1(X3test, y3test, label=\"test\")\n",
    "plot1fit(torch.linspace(0, 13, 500).unsqueeze(1), model)"
   ]
  },
  {
   "cell_type": "code",
   "execution_count": null,
   "metadata": {},
   "outputs": [],
   "source": [
    "# The weight matrices and bias vectors can be read out as follows. If you want,\n",
    "# use these parameters to compute the output of the network (on X3) directly and\n",
    "# compare to model(X3).\n",
    "for par, value in model.state_dict().items():\n",
    "    print(f\"{par:<15}= {value}\")"
   ]
  },
  {
   "cell_type": "code",
   "execution_count": null,
   "metadata": {},
   "outputs": [],
   "source": [
    "# now repeat this multiple times\n",
    "# YOUR CODE HERE"
   ]
  },
  {
   "cell_type": "code",
   "execution_count": null,
   "metadata": {},
   "outputs": [],
   "source": [
    "# From now on, always train multiple times (nreps=10 by default) and\n",
    "# report best model.\n",
    "model = train3([2], nreps=10)\n",
    "print(\"Training error:\", F.mse_loss(y3, model(X3)).item())\n",
    "print(\"Test error    :\", F.mse_loss(y3test, model(X3test)).item())"
   ]
  },
  {
   "cell_type": "markdown",
   "metadata": {},
   "source": [
    "## 2c Width"
   ]
  },
  {
   "cell_type": "code",
   "execution_count": null,
   "metadata": {},
   "outputs": [],
   "source": [
    "# Experiment with different hidden layer sizes. To avoid recomputing\n",
    "# models, you may want to save your models using torch.save(model, filename) and\n",
    "# load them again using torch.load(filename).\n",
    "# YOUR CODE HERE"
   ]
  },
  {
   "cell_type": "markdown",
   "metadata": {},
   "source": [
    "## 2d Distributed representations"
   ]
  },
  {
   "cell_type": "code",
   "execution_count": null,
   "metadata": {},
   "outputs": [],
   "source": [
    "# train a model to analyze\n",
    "model = train3([2])"
   ]
  },
  {
   "cell_type": "code",
   "execution_count": null,
   "metadata": {},
   "outputs": [],
   "source": [
    "# plot the fit as well as the outputs of each neuron in the hidden\n",
    "# layer (scale for the latter is shown on right y-axis)\n",
    "nextplot()\n",
    "plot1(X3, y3, label=\"train\")\n",
    "plot1(X3test, y3test, label=\"test\")\n",
    "plot1fit(torch.linspace(0, 13, 500).unsqueeze(1), model, hidden=True, scale=False)"
   ]
  },
  {
   "cell_type": "code",
   "execution_count": null,
   "metadata": {},
   "outputs": [],
   "source": [
    "# plot the fit as well as the outputs of each neuron in the hidden layer, scaled\n",
    "# by its weight for the output neuron (scale for the latter is shown on right\n",
    "# y-axis)\n",
    "nextplot()\n",
    "plot1(X3, y3, label=\"train\")\n",
    "plot1(X3test, y3test, label=\"test\")\n",
    "plot1fit(torch.linspace(0, 13, 500).unsqueeze(1), model, hidden=True, scale=True)"
   ]
  },
  {
   "cell_type": "markdown",
   "metadata": {},
   "source": [
    "## 2e Experiment with different optimizers (optional)"
   ]
  },
  {
   "cell_type": "code",
   "execution_count": null,
   "metadata": {},
   "outputs": [],
   "source": [
    "# PyTorch provides many gradient-based optimizers; see\n",
    "# https://pytorch.org/docs/stable/optim.html. You can use a PyTorch optimizer\n",
    "# as follows.\n",
    "train_adam = lambda model, **kwargs: fnn_train(\n",
    "    X3, y3, model, optimizer=torch.optim.Adam(model.parameters(), lr=0.01), **kwargs\n",
    ")\n",
    "model = train3([50], nreps=1, train=train_adam, max_epochs=5000, tol=1e-8, verbose=True)"
   ]
  },
  {
   "cell_type": "code",
   "execution_count": null,
   "metadata": {},
   "outputs": [],
   "source": [
    "# Experiment with different number of layers and activation functions. Here is\n",
    "# an example with three hidden layers (of sizes 4, 5, and 6) and ReLU activations.\n",
    "#\n",
    "# You can also plot the outputs of the hidden neurons in the first layer (using\n",
    "# the same code above).\n",
    "model = train3([4, 5, 6], nreps=50, transfer=lambda: nn.ReLU())\n",
    "nextplot()\n",
    "plot1(X3, y3, label=\"train\")\n",
    "plot1(X3test, y3test, label=\"test\")\n",
    "plot1fit(torch.linspace(0, 13, 500).unsqueeze(1), model)\n",
    "print(\"Training error:\", F.mse_loss(y3, model(X3)).item())\n",
    "print(\"Test error    :\", F.mse_loss(y3test, model(X3test)).item())"
   ]
  }
 ],
 "metadata": {
  "kernelspec": {
   "display_name": "Python 3 (ipykernel)",
   "language": "python",
   "name": "python3"
  },
  "language_info": {
   "codemirror_mode": {
    "name": "ipython",
    "version": 3
   },
   "file_extension": ".py",
   "mimetype": "text/x-python",
   "name": "python",
   "nbconvert_exporter": "python",
   "pygments_lexer": "ipython3",
   "version": "3.9.7"
  }
 },
 "nbformat": 4,
 "nbformat_minor": 4
}
