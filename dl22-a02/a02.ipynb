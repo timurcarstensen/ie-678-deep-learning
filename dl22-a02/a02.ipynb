{
 "cells": [
  {
   "cell_type": "code",
   "execution_count": 1,
   "id": "69ad8d6e",
   "metadata": {},
   "outputs": [],
   "source": [
    "# Student: Timur Carstensen\n",
    "# Student ID: 1722194"
   ]
  },
  {
   "cell_type": "code",
   "execution_count": 2,
   "id": "10cfccc3",
   "metadata": {
    "collapsed": false
   },
   "outputs": [],
   "source": [
    "#\n",
    "# IE 678 Deep Learning, University of Mannheim\n",
    "# Author: Rainer Gemulla"
   ]
  },
  {
   "cell_type": "code",
   "execution_count": 24,
   "id": "a7deb3dd",
   "metadata": {
    "collapsed": false
   },
   "outputs": [],
   "source": [
    "import torch\n",
    "import torch.nn as nn\n",
    "import torchvision\n",
    "import matplotlib\n",
    "import matplotlib.pyplot as plt\n",
    "import os\n",
    "import numpy as np\n",
    "from sklearn.metrics import confusion_matrix\n",
    "\n",
    "from IPython import get_ipython\n",
    "from helper import *\n",
    "from util import nextplot\n",
    "\n",
    "%matplotlib inline"
   ]
  },
  {
   "cell_type": "code",
   "execution_count": 4,
   "id": "6fd20346",
   "metadata": {
    "collapsed": false
   },
   "outputs": [],
   "source": [
    "# Use GPU if CUDA is available\n",
    "DATA_PATH = \"data/\"\n",
    "MODEL_PATH = \"data/\"\n",
    "DEVICE = \"cuda\" if torch.cuda.is_available() else \"cpu\""
   ]
  },
  {
   "cell_type": "code",
   "execution_count": 5,
   "id": "7d31d8ba",
   "metadata": {
    "collapsed": false
   },
   "outputs": [],
   "source": [
    "# To prevent from retraining models, you can save them to disk and load them\n",
    "# later on\n",
    "def save(model, filename):\n",
    "    torch.save(model.state_dict(), os.path.join(MODEL_PATH, filename))\n",
    "\n",
    "\n",
    "def load(model, filename):\n",
    "    model.load_state_dict(torch.load(os.path.join(MODEL_PATH, filename)))\n",
    "    return model"
   ]
  },
  {
   "cell_type": "markdown",
   "id": "63191e1f",
   "metadata": {},
   "source": [
    "# 1 Convolutional Neural Networks"
   ]
  },
  {
   "cell_type": "markdown",
   "id": "4b39cf82",
   "metadata": {},
   "source": [
    "## Load the data"
   ]
  },
  {
   "cell_type": "code",
   "execution_count": 6,
   "id": "46adbc7f",
   "metadata": {
    "collapsed": false
   },
   "outputs": [
    {
     "name": "stderr",
     "output_type": "stream",
     "text": [
      "/Users/timurcarstensen/Library/CloudStorage/OneDrive-bwedu/1. Modules/1. Master/1. MMDS/2. Semester/IE 678 - Deep Learning/4-Assignments/ie-678-deep-learning/dl22-a02/helper.py:47: UserWarning: The given NumPy array is not writable, and PyTorch does not support non-writable tensors. This means writing to this tensor will result in undefined behavior. You may want to copy the array to protect its data or make it writable before converting it to a tensor. This type of warning will be suppressed for the rest of this program. (Triggered internally at  /Users/distiller/project/pytorch/torch/csrc/utils/tensor_numpy.cpp:178.)\n",
      "  images_as_tensors.append(torch.from_numpy(images).unsqueeze(1).float())\n"
     ]
    },
    {
     "name": "stdout",
     "output_type": "stream",
     "text": [
      "60000 training examples\n",
      "10000 test examples\n"
     ]
    }
   ],
   "source": [
    "X, y, Xtest, ytest = load_dataset(\"fashionmnist\")\n",
    "class_dict = {\n",
    "    0: \"t-shirt/top\",\n",
    "    1: \"trouser\",\n",
    "    2: \"pullover\",\n",
    "    3: \"dress\",\n",
    "    4: \"coat\",\n",
    "    5: \"sandal\",\n",
    "    6: \"shirt\",\n",
    "    7: \"sneaker\",\n",
    "    8: \"bag\",\n",
    "    9: \"ankle boot\",\n",
    "}\n",
    "print(f\"{len(X)} training examples\")\n",
    "print(f\"{len(Xtest)} test examples\")"
   ]
  },
  {
   "cell_type": "code",
   "execution_count": 7,
   "id": "b7be80de",
   "metadata": {
    "collapsed": false
   },
   "outputs": [
    {
     "name": "stdout",
     "output_type": "stream",
     "text": [
      "Label of example i=0: ankle boot\n",
      "Label of example i=1: t-shirt/top\n",
      "Label of example i=2: t-shirt/top\n",
      "Label of example i=3: dress\n",
      "Label of example i=4: t-shirt/top\n"
     ]
    },
    {
     "data": {
      "image/png": "[encoded data removed]",
      "text/plain": [
       "<Figure size 432x288 with 1 Axes>"
      ]
     },
     "metadata": {
      "needs_background": "light"
     },
     "output_type": "display_data"
    }
   ],
   "source": [
    "def show_image(x):\n",
    "    \"Show one (or multiple) 28x28 MNIST images as a gray-scale image.\"\n",
    "    plt.imshow(x.reshape(-1, 28).cpu(), cmap=\"gray\", interpolation=\"none\")\n",
    "\n",
    "\n",
    "# Plot first 5 training examples. Each example consists of a 1x28x28 tensor with values\n",
    "# in [0,1] and a label\n",
    "nextplot()\n",
    "show_image(X[:5])\n",
    "for i in range(5):\n",
    "    print(f\"Label of example i={i}: {class_dict[y[i].item()]}\")"
   ]
  },
  {
   "cell_type": "markdown",
   "id": "5a474477",
   "metadata": {},
   "source": [
    "## 1a+b Implement a CNN model"
   ]
  },
  {
   "cell_type": "code",
   "execution_count": 8,
   "id": "c3685e13",
   "metadata": {
    "collapsed": false
   },
   "outputs": [],
   "source": [
    "# Here is a PyTorch version of logistic regression.\n",
    "class LogisticRegression(nn.Module):\n",
    "    def __init__(self, num_features):\n",
    "        super().__init__()\n",
    "        self.linear = nn.Linear(num_features, 1)\n",
    "        self.sigmoid = nn.Sigmoid()\n",
    "\n",
    "    def forward(self, x):\n",
    "        out = self.linear(x.float())\n",
    "        out = self.sigmoid(out)\n",
    "        return out"
   ]
  },
  {
   "cell_type": "code",
   "execution_count": 9,
   "id": "d3cd9c7b",
   "metadata": {
    "collapsed": false
   },
   "outputs": [],
   "source": [
    "# Implement a simple CNN\n",
    "class SimpleCNN(nn.Module):\n",
    "    def __init__(self):\n",
    "        super().__init__()\n",
    "        # Create the required layers/function and store them as instance variables\n",
    "        # YOUR CODE HERE\n",
    "        \n",
    "        self.layer1 = nn.Sequential(\n",
    "            nn.Conv2d(kernel_size=3, in_channels=1, out_channels=32, stride=1, padding=1, padding_mode=\"zeros\"),\n",
    "            nn.Sigmoid(),\n",
    "            nn.MaxPool2d(kernel_size=2, stride=2),\n",
    "        )\n",
    "        self.fc1 = nn.Linear(in_features=6272, out_features=10)\n",
    "        self.log_softmax = nn.LogSoftmax()\n",
    "        \n",
    "\n",
    "    def forward(self, x):\n",
    "        \"\"\"\n",
    "        Perform the forward pass.\n",
    "\n",
    "        Parameters\n",
    "        ----------\n",
    "        x: tensor of shape (batch_size, 1, 28, 28)\n",
    "\n",
    "        Returns\n",
    "        -------\n",
    "        model output as a tensor of shape (batch_size, 10)\n",
    "        \"\"\"\n",
    "        out = None\n",
    "        # Use the layers/functions created above to compute model output\n",
    "        # YOUR CODE HERE\n",
    "        out = self.layer1(x)\n",
    "        out = torch.flatten(out, 1)\n",
    "        out = self.fc1(out)\n",
    "        out = self.log_softmax(out)\n",
    "        \n",
    "        return out"
   ]
  },
  {
   "cell_type": "code",
   "execution_count": 10,
   "id": "583b8b99",
   "metadata": {
    "collapsed": false
   },
   "outputs": [
    {
     "name": "stdout",
     "output_type": "stream",
     "text": [
      "SimpleCNN(\n",
      "  (layer1): Sequential(\n",
      "    (0): Conv2d(1, 32, kernel_size=(3, 3), stride=(1, 1), padding=(1, 1))\n",
      "    (1): Sigmoid()\n",
      "    (2): MaxPool2d(kernel_size=2, stride=2, padding=0, dilation=1, ceil_mode=False)\n",
      "  )\n",
      "  (fc1): Linear(in_features=6272, out_features=10, bias=True)\n",
      "  (log_softmax): LogSoftmax(dim=None)\n",
      ")\n"
     ]
    }
   ],
   "source": [
    "# here is a description of what you created (this uses the member variables)\n",
    "print(SimpleCNN())\n",
    "\n",
    "# SimpleCNN(\n",
    "#   (layer1): Sequential(\n",
    "#     (0): Conv2d(1, 32, kernel_size=(3, 3), stride=(1, 1), padding=(1, 1))\n",
    "#     (1): Sigmoid()\n",
    "#     (2): MaxPool2d(kernel_size=2, stride=2, padding=0, dilation=1, ceil_mode=False)\n",
    "#   )\n",
    "#   (fc1): Linear(in_features=6272, out_features=10, bias=True)\n",
    "#   (log_softmax): LogSoftmax()\n",
    "# )"
   ]
  },
  {
   "cell_type": "code",
   "execution_count": 11,
   "id": "5187ad14",
   "metadata": {
    "collapsed": false
   },
   "outputs": [
    {
     "data": {
      "text/plain": [
       "OrderedDict([('layer1.0.weight',\n",
       "              tensor([[[[-1.1453e-02,  2.7936e-01,  3.2266e-01],\n",
       "                        [-1.9757e-01,  9.2523e-02,  2.2447e-01],\n",
       "                        [-1.3036e-01, -1.9517e-01,  1.3623e-01]]],\n",
       "              \n",
       "              \n",
       "                      [[[ 1.6826e-01, -1.9374e-01, -9.2238e-02],\n",
       "                        [-1.7753e-01,  1.9583e-01,  1.5441e-02],\n",
       "                        [-2.1389e-01, -2.0495e-01,  1.6982e-01]]],\n",
       "              \n",
       "              \n",
       "                      [[[-2.1576e-01, -5.3792e-02,  2.7357e-01],\n",
       "                        [-3.1233e-01,  2.3024e-01,  2.8938e-01],\n",
       "                        [-2.6247e-01, -1.5452e-02, -1.7021e-01]]],\n",
       "              \n",
       "              \n",
       "                      [[[ 1.0462e-01, -2.9239e-01,  1.9702e-01],\n",
       "                        [-3.1911e-01,  2.9600e-01,  4.2035e-02],\n",
       "                        [-2.2018e-01, -2.4213e-02, -4.1037e-02]]],\n",
       "              \n",
       "              \n",
       "                      [[[ 2.9816e-01, -2.4042e-01, -2.2854e-01],\n",
       "                        [-1.9180e-01, -2.6289e-01,  1.5164e-02],\n",
       "                        [-6.6887e-02, -1.3473e-01,  2.5250e-01]]],\n",
       "              \n",
       "              \n",
       "                      [[[-2.3964e-01, -1.7281e-01,  1.4753e-01],\n",
       "                        [-2.4289e-01,  3.2478e-02,  2.5360e-01],\n",
       "                        [ 1.5783e-01,  3.1628e-01,  1.2826e-01]]],\n",
       "              \n",
       "              \n",
       "                      [[[ 3.8991e-02,  2.1474e-01, -1.2688e-01],\n",
       "                        [-1.6512e-01, -2.9054e-01, -1.4218e-01],\n",
       "                        [ 4.6751e-02,  2.5078e-01,  2.8706e-01]]],\n",
       "              \n",
       "              \n",
       "                      [[[-1.4542e-01, -1.7265e-01,  3.0902e-01],\n",
       "                        [ 3.2934e-02,  2.6776e-01,  2.4571e-01],\n",
       "                        [-1.5741e-01, -3.2374e-01,  2.3448e-02]]],\n",
       "              \n",
       "              \n",
       "                      [[[ 2.5243e-01, -1.3813e-01, -5.4891e-03],\n",
       "                        [-7.4452e-03,  2.0381e-01, -1.8487e-01],\n",
       "                        [-7.2084e-03,  2.1423e-01,  1.6809e-01]]],\n",
       "              \n",
       "              \n",
       "                      [[[ 1.6717e-01, -1.0698e-01, -2.7097e-01],\n",
       "                        [ 1.5714e-01, -8.5166e-02,  7.1617e-02],\n",
       "                        [-3.9474e-02, -2.8671e-02, -9.9002e-02]]],\n",
       "              \n",
       "              \n",
       "                      [[[-1.2734e-01,  3.1038e-01, -8.0379e-02],\n",
       "                        [-1.2279e-01, -4.6563e-03,  3.3122e-01],\n",
       "                        [-2.0349e-01, -1.3132e-01, -8.6964e-03]]],\n",
       "              \n",
       "              \n",
       "                      [[[-2.9259e-02, -4.9785e-02, -3.1749e-02],\n",
       "                        [ 8.3454e-02,  1.6194e-01, -2.3123e-01],\n",
       "                        [ 1.7191e-01,  3.2631e-01, -4.5450e-02]]],\n",
       "              \n",
       "              \n",
       "                      [[[-3.1933e-02,  1.1646e-01, -3.1563e-01],\n",
       "                        [-2.1968e-01,  1.1695e-01, -8.7622e-02],\n",
       "                        [ 1.7843e-01,  1.1551e-01, -3.0908e-01]]],\n",
       "              \n",
       "              \n",
       "                      [[[ 4.8768e-02, -2.5057e-01, -7.5788e-02],\n",
       "                        [-3.3135e-01, -7.4906e-02, -6.9153e-02],\n",
       "                        [-3.1308e-01, -9.5837e-03, -3.1910e-01]]],\n",
       "              \n",
       "              \n",
       "                      [[[-1.8718e-02,  2.1448e-02, -2.7182e-01],\n",
       "                        [ 1.9916e-01, -2.4157e-01, -8.6172e-02],\n",
       "                        [ 3.0727e-01, -3.1118e-01, -2.8457e-01]]],\n",
       "              \n",
       "              \n",
       "                      [[[-1.2135e-01, -1.7633e-01, -2.8563e-01],\n",
       "                        [ 1.5492e-01, -3.2648e-01,  1.6915e-01],\n",
       "                        [-3.2794e-02,  1.8814e-01, -1.5319e-01]]],\n",
       "              \n",
       "              \n",
       "                      [[[-9.6349e-02, -2.4300e-01,  1.5368e-01],\n",
       "                        [ 3.3094e-01,  1.6559e-01, -1.1665e-01],\n",
       "                        [ 7.3873e-02, -9.1133e-02, -1.0532e-01]]],\n",
       "              \n",
       "              \n",
       "                      [[[ 2.0122e-01, -2.9380e-01,  2.3409e-01],\n",
       "                        [ 2.8426e-01,  2.4295e-01, -5.2817e-02],\n",
       "                        [ 2.7528e-01, -2.8433e-01, -3.1910e-01]]],\n",
       "              \n",
       "              \n",
       "                      [[[-8.6768e-02, -1.5092e-01, -1.3686e-01],\n",
       "                        [ 1.8532e-01,  3.2686e-01, -1.5439e-02],\n",
       "                        [ 7.7377e-02, -9.9089e-02, -1.8704e-01]]],\n",
       "              \n",
       "              \n",
       "                      [[[ 1.0975e-01,  1.3257e-01, -2.4669e-01],\n",
       "                        [ 4.7457e-02,  1.6298e-01,  2.1730e-01],\n",
       "                        [ 6.6030e-02, -2.9664e-01, -1.7927e-01]]],\n",
       "              \n",
       "              \n",
       "                      [[[ 1.8035e-01, -2.4944e-01,  2.5904e-01],\n",
       "                        [-2.0375e-02,  5.9026e-02, -6.9607e-02],\n",
       "                        [-1.6166e-01, -1.3653e-01, -1.4336e-01]]],\n",
       "              \n",
       "              \n",
       "                      [[[-1.5276e-01,  2.3896e-01, -1.0374e-04],\n",
       "                        [-8.2772e-02, -2.6411e-01,  1.6775e-01],\n",
       "                        [ 1.7584e-01, -4.1125e-02,  3.2167e-01]]],\n",
       "              \n",
       "              \n",
       "                      [[[ 4.0378e-02,  3.1569e-01,  3.8080e-02],\n",
       "                        [-2.3851e-01,  2.3222e-01,  1.5484e-01],\n",
       "                        [-2.1262e-01, -1.9455e-01, -2.7247e-01]]],\n",
       "              \n",
       "              \n",
       "                      [[[-2.2572e-01,  2.8499e-01, -2.1282e-01],\n",
       "                        [-8.5373e-03,  2.0596e-01,  1.7783e-01],\n",
       "                        [ 9.2043e-02,  1.9803e-01,  2.4529e-01]]],\n",
       "              \n",
       "              \n",
       "                      [[[-1.4196e-01,  3.0880e-01, -2.8800e-01],\n",
       "                        [-2.0400e-01,  2.0870e-01, -2.5990e-01],\n",
       "                        [-3.1163e-01, -1.3886e-01,  2.7205e-01]]],\n",
       "              \n",
       "              \n",
       "                      [[[-2.2120e-01, -1.7943e-01,  2.0731e-01],\n",
       "                        [-1.5311e-01,  5.8705e-03,  2.8962e-01],\n",
       "                        [-1.3022e-01, -3.0004e-01,  3.0620e-01]]],\n",
       "              \n",
       "              \n",
       "                      [[[-3.1005e-01, -3.4813e-03, -1.5477e-01],\n",
       "                        [ 8.8777e-02,  2.6493e-01, -1.0034e-02],\n",
       "                        [ 3.0507e-01, -2.0163e-01, -7.6936e-03]]],\n",
       "              \n",
       "              \n",
       "                      [[[ 2.0421e-01, -4.8465e-02,  2.3315e-01],\n",
       "                        [-2.0432e-02,  1.6078e-01, -5.4621e-02],\n",
       "                        [-2.8729e-01,  3.9228e-02, -1.0766e-01]]],\n",
       "              \n",
       "              \n",
       "                      [[[ 2.3461e-01,  3.2383e-01, -1.5781e-01],\n",
       "                        [-3.2958e-01,  7.5720e-02, -1.2872e-01],\n",
       "                        [-1.4547e-01, -2.6971e-01, -1.6036e-01]]],\n",
       "              \n",
       "              \n",
       "                      [[[ 3.5843e-02,  1.1126e-01, -8.0596e-02],\n",
       "                        [ 9.0792e-03, -8.5607e-02, -1.2358e-01],\n",
       "                        [-1.1247e-01, -2.6747e-01,  2.2246e-01]]],\n",
       "              \n",
       "              \n",
       "                      [[[-1.1328e-01,  2.4839e-02,  2.6759e-01],\n",
       "                        [-8.0174e-02,  1.7748e-01, -1.7090e-01],\n",
       "                        [-2.5783e-01, -1.3754e-01,  1.0772e-01]]],\n",
       "              \n",
       "              \n",
       "                      [[[-8.4099e-02, -1.4460e-01,  2.3367e-01],\n",
       "                        [ 1.2744e-01, -3.0213e-01,  2.8465e-01],\n",
       "                        [ 7.5535e-02, -5.7271e-02, -3.1241e-01]]]])),\n",
       "             ('layer1.0.bias',\n",
       "              tensor([ 0.0260, -0.1834,  0.0464,  0.2835,  0.1072, -0.1208,  0.2117, -0.2153,\n",
       "                       0.0955, -0.0049,  0.2379, -0.1355, -0.2581, -0.1180,  0.1155,  0.0593,\n",
       "                      -0.2100, -0.0373,  0.2807, -0.1983,  0.1213,  0.3229,  0.0398, -0.2240,\n",
       "                      -0.2808,  0.3234, -0.1131, -0.0930,  0.0203,  0.1315,  0.2623,  0.2017])),\n",
       "             ('fc1.weight',\n",
       "              tensor([[-0.0020,  0.0100, -0.0083,  ...,  0.0119,  0.0027,  0.0102],\n",
       "                      [ 0.0043,  0.0071,  0.0005,  ..., -0.0098,  0.0121,  0.0043],\n",
       "                      [-0.0055,  0.0060,  0.0030,  ..., -0.0042, -0.0062, -0.0044],\n",
       "                      ...,\n",
       "                      [-0.0039,  0.0081,  0.0108,  ...,  0.0027,  0.0101, -0.0121],\n",
       "                      [ 0.0047,  0.0124, -0.0071,  ...,  0.0050, -0.0107,  0.0069],\n",
       "                      [ 0.0061, -0.0079,  0.0073,  ...,  0.0080,  0.0093,  0.0050]])),\n",
       "             ('fc1.bias',\n",
       "              tensor([ 0.0032, -0.0042, -0.0051, -0.0040,  0.0033,  0.0013, -0.0055,  0.0067,\n",
       "                       0.0096,  0.0039]))])"
      ]
     },
     "execution_count": 11,
     "metadata": {},
     "output_type": "execute_result"
    }
   ],
   "source": [
    "# One way to see the parameters of your model is to look at its \"state\". Check that the\n",
    "# shapes of the parameters that you see here match your computations of task 1a).\n",
    "model = SimpleCNN().to(DEVICE)\n",
    "model.state_dict()"
   ]
  },
  {
   "cell_type": "code",
   "execution_count": 12,
   "id": "12487ed5",
   "metadata": {
    "collapsed": false
   },
   "outputs": [
    {
     "name": "stdout",
     "output_type": "stream",
     "text": [
      "tensor([[-2.5475, -2.0670, -2.9675, -2.5244, -2.1183, -2.2684, -1.8966, -2.1271,\n",
      "         -2.6158, -2.3274],\n",
      "        [-2.7908, -2.2098, -2.7838, -2.5497, -2.0123, -2.4150, -1.6571, -2.1777,\n",
      "         -2.4662, -2.5633],\n",
      "        [-2.8037, -2.0797, -2.7382, -2.2363, -2.2205, -2.1415, -2.1410, -2.1562,\n",
      "         -2.3477, -2.4305],\n",
      "        [-2.6381, -2.2002, -2.7751, -2.3460, -2.1673, -2.4726, -1.8689, -2.2493,\n",
      "         -2.1142, -2.5223],\n",
      "        [-2.9277, -2.1578, -2.9346, -2.2399, -2.2352, -2.0691, -1.9856, -2.1454,\n",
      "         -2.2769, -2.5121]])\n"
     ]
    },
    {
     "name": "stderr",
     "output_type": "stream",
     "text": [
      "/var/folders/hq/pyn2nf8x3f94nbk8r749084r0000gn/T/ipykernel_71156/260300387.py:35: UserWarning: Implicit dimension choice for log_softmax has been deprecated. Change the call to include dim=X as an argument.\n",
      "  out = self.log_softmax(out)\n"
     ]
    }
   ],
   "source": [
    "# Run the forward pass on the first 5 examples.\n",
    "with torch.no_grad():  # tell torch to not compute backward graph\n",
    "    print(model(X[:5]))"
   ]
  },
  {
   "cell_type": "code",
   "execution_count": 13,
   "id": "64f5ed93",
   "metadata": {
    "collapsed": false
   },
   "outputs": [
    {
     "name": "stdout",
     "output_type": "stream",
     "text": [
      "     Labels: ['ankle boot', 't-shirt/top', 't-shirt/top', 'dress', 't-shirt/top']\n",
      "Predictions: ['shirt', 'shirt', 'trouser', 'shirt', 'shirt']\n"
     ]
    },
    {
     "name": "stderr",
     "output_type": "stream",
     "text": [
      "/var/folders/hq/pyn2nf8x3f94nbk8r749084r0000gn/T/ipykernel_71156/260300387.py:35: UserWarning: Implicit dimension choice for log_softmax has been deprecated. Change the call to include dim=X as an argument.\n",
      "  out = self.log_softmax(out)\n"
     ]
    },
    {
     "data": {
      "image/png": "[encoded data removed]",
      "text/plain": [
       "<Figure size 432x288 with 1 Axes>"
      ]
     },
     "metadata": {
      "needs_background": "light"
     },
     "output_type": "display_data"
    }
   ],
   "source": [
    "# Plot training (or test) examples, their correct labels, and the most likely model\n",
    "# predictions. Do not be worried if your (untrained) model always seems to predict the\n",
    "# same class.\n",
    "@torch.no_grad()\n",
    "def mnist_predict(model, start, end=None, use_test_data=False):\n",
    "    if end is None:\n",
    "        end = start + 1\n",
    "    if use_test_data:\n",
    "        images = Xtest[start:end].to(DEVICE)\n",
    "        labels = ytest[start:end].to(DEVICE)\n",
    "    else:\n",
    "        images = X[start:end].to(DEVICE)\n",
    "        labels = y[start:end].to(DEVICE)\n",
    "    nextplot()\n",
    "    show_image(images)\n",
    "    print(\"     Labels:\", [class_dict[label.item()] for label in labels])\n",
    "    out = model(images)\n",
    "    _, yhat = torch.max(out, 1)\n",
    "    print(\"Predictions:\", [class_dict[pred.item()] for pred in yhat])\n",
    "\n",
    "\n",
    "# first 5 examples from training + predictions\n",
    "mnist_predict(model, 0, 5)"
   ]
  },
  {
   "cell_type": "markdown",
   "id": "c1789bfc",
   "metadata": {},
   "source": [
    "## 1c Evaluate model performance"
   ]
  },
  {
   "cell_type": "code",
   "execution_count": 54,
   "id": "32b9967a",
   "metadata": {
    "collapsed": false
   },
   "outputs": [],
   "source": [
    "# test model\n",
    "@torch.no_grad()\n",
    "def mnist_test(model, batch_size=100, reshape_1d=False):\n",
    "    \"\"\"\n",
    "    Function to test your CNN on test data\n",
    "\n",
    "    Parameters\n",
    "    ----------\n",
    "\n",
    "    model: trained CNN from task 1a\n",
    "    batch_size: size of batch for dataloader\n",
    "    reshape_1d: Reshape images to a 1d vectors (allows use of models other than CNNs\n",
    "                such as fully-connected FNNs)\n",
    "\n",
    "    Returns\n",
    "    -------\n",
    "    accuracy of input model\n",
    "    \"\"\"\n",
    "    correct = 0  # number of correct predictions\n",
    "    total = 0  # total number of examples\n",
    "    model.eval()  # set layers like dropout and batch norm to eval mode\n",
    "\n",
    "    # Create test data loader\n",
    "    if reshape_1d:\n",
    "        dataset = torch.utils.data.TensorDataset(Xtest.reshape(len(Xtest), -1), ytest)\n",
    "    else:\n",
    "        dataset = torch.utils.data.TensorDataset(Xtest, ytest)\n",
    "    test_loader = torch.utils.data.DataLoader(\n",
    "        dataset, batch_size=batch_size, shuffle=False\n",
    "    )\n",
    "    # confusion_matrix = np.zeros(shape=(10,10))\n",
    "    pred = list()\n",
    "    y = list()\n",
    "    # Loop over data\n",
    "    for batch in test_loader:\n",
    "        # YOUR CODE HERE\n",
    "        # Update correct and total using the examples in the batch. To understand what a\n",
    "        # DataLoader does, have a look at the contents of \"batch\" before you start.\n",
    "        images, labels = batch\n",
    "        # calculate outputs by running images through the network\n",
    "        outputs = model(images)\n",
    "        # the class with the highest energy is what we choose as prediction\n",
    "        _, predicted = torch.max(outputs.data, 1)\n",
    "        pred.append(predicted)\n",
    "        y.append(labels)\n",
    "        total += labels.size(0)\n",
    "        correct += (predicted == labels).sum().item()\n",
    "        # confusion matrix over classes\n",
    "            \n",
    "    M = confusion_matrix(torch.cat(y), torch.cat(pred))\n",
    "    accuracy = (correct / total) * 100\n",
    "    print(f\"Accuracy on {total} test images: {accuracy:.2f} %\")\n",
    "    return accuracy, M"
   ]
  },
  {
   "cell_type": "code",
   "execution_count": 55,
   "id": "6e15ecb3",
   "metadata": {
    "collapsed": false
   },
   "outputs": [
    {
     "name": "stdout",
     "output_type": "stream",
     "text": [
      "Accuracy on 10000 test images: 6.97 %\n"
     ]
    },
    {
     "data": {
      "text/plain": [
       "6.97"
      ]
     },
     "execution_count": 55,
     "metadata": {},
     "output_type": "execute_result"
    }
   ],
   "source": [
    "# Test your code. Output should be: 6.97%\n",
    "class DummyModel(nn.Module):\n",
    "    def forward(self, x):\n",
    "        return x.reshape(len(x), -1)[:, 200:210] * torch.arange(10).to(DEVICE)\n",
    "\n",
    "\n",
    "mnist_test(DummyModel().to(DEVICE))[0]"
   ]
  },
  {
   "cell_type": "markdown",
   "id": "7c66a390",
   "metadata": {},
   "source": [
    "## 1d Train a model"
   ]
  },
  {
   "cell_type": "code",
   "execution_count": 17,
   "id": "c5a45870",
   "metadata": {
    "collapsed": false
   },
   "outputs": [],
   "source": [
    "# train model\n",
    "def mnist_train(\n",
    "    model, num_epochs=5, learning_rate=0.001, batch_size=100, reshape_1d=False\n",
    "):\n",
    "    \"\"\"\n",
    "    Function to train the provided CNN network.\n",
    "\n",
    "    Parameters\n",
    "    ----------\n",
    "    model: the model to train\n",
    "    num_epochs: number of epochs to train\n",
    "    learning_rate: learning rate to use\n",
    "    batch_size: size of batch for data loader\n",
    "    reshape_1d: Reshape images to a 1d vectors (allows use of models other than CNNs\n",
    "                such as fully-connected FNNs)\n",
    "    \"\"\"\n",
    "    # YOUR CODE HERE\n",
    "\n",
    "    if reshape_1d:\n",
    "        dataset = torch.utils.data.TensorDataset(X.reshape(len(X), -1), y)\n",
    "    else:\n",
    "        dataset = torch.utils.data.TensorDataset(X, y)\n",
    "    test_loader = torch.utils.data.DataLoader(\n",
    "        dataset, batch_size=batch_size, shuffle=False\n",
    "    )\n",
    "\n",
    "    optimizer = torch.optim.Adam(model.parameters(), lr=learning_rate)\n",
    "    criterion = nn.NLLLoss()\n",
    "    i = 0\n",
    "    \n",
    "    for epoch in range(num_epochs):  # loop over the dataset multiple times\n",
    "\n",
    "        running_loss = 0.0\n",
    "        \n",
    "        for batch in test_loader:\n",
    "            # get the inputs; data is a list of [inputs, labels]\n",
    "            inputs, labels = batch\n",
    "\n",
    "            # zero the parameter gradients\n",
    "            optimizer.zero_grad()\n",
    "\n",
    "            # forward + backward + optimize\n",
    "            outputs = model(inputs)\n",
    "            loss = criterion(outputs, labels)\n",
    "            loss.backward()\n",
    "            optimizer.step()\n",
    "\n",
    "            # print statistics\n",
    "            running_loss += loss.item()\n",
    "            i += 1\n",
    "            if i % 2000 == 1999:    # print every 2000 mini-batches\n",
    "                print(f'[{epoch + 1}, {i + 1:5d}] loss: {running_loss / 2000:.3f}')\n",
    "                running_loss = 0.0\n",
    "\n",
    "\n",
    "    return model"
   ]
  },
  {
   "cell_type": "markdown",
   "id": "d7f7c524",
   "metadata": {},
   "source": [
    "## 1e Train and evaluate the simple CNN model"
   ]
  },
  {
   "cell_type": "code",
   "execution_count": 18,
   "id": "8bd730e1",
   "metadata": {
    "collapsed": false
   },
   "outputs": [
    {
     "name": "stderr",
     "output_type": "stream",
     "text": [
      "/var/folders/hq/pyn2nf8x3f94nbk8r749084r0000gn/T/ipykernel_71156/260300387.py:35: UserWarning: Implicit dimension choice for log_softmax has been deprecated. Change the call to include dim=X as an argument.\n",
      "  out = self.log_softmax(out)\n"
     ]
    },
    {
     "name": "stdout",
     "output_type": "stream",
     "text": [
      "[4,  2000] loss: 0.026\n"
     ]
    }
   ],
   "source": [
    "# Train a model.\n",
    "model = mnist_train(SimpleCNN().to(DEVICE))\n",
    "# save(model, \"simple_cnn.pt\")"
   ]
  },
  {
   "cell_type": "code",
   "execution_count": 61,
   "id": "3971f47f",
   "metadata": {
    "collapsed": false
   },
   "outputs": [
    {
     "name": "stderr",
     "output_type": "stream",
     "text": [
      "/var/folders/hq/pyn2nf8x3f94nbk8r749084r0000gn/T/ipykernel_71156/260300387.py:35: UserWarning: Implicit dimension choice for log_softmax has been deprecated. Change the call to include dim=X as an argument.\n",
      "  out = self.log_softmax(out)\n"
     ]
    },
    {
     "name": "stdout",
     "output_type": "stream",
     "text": [
      "Accuracy on 10000 test images: 85.40 %\n"
     ]
    },
    {
     "data": {
      "image/png": "[encoded data removed]",
      "text/plain": [
       "<Figure size 432x288 with 2 Axes>"
      ]
     },
     "metadata": {
      "needs_background": "light"
     },
     "output_type": "display_data"
    }
   ],
   "source": [
    "# Test a model. The simple CNN should perform much better after training.\n",
    "# model = load(SimpleCNN(), \"simple_cnn.pt\").to(DEVICE)\n",
    "_, M = mnist_test(model)\n",
    "plt.imshow(M, origin=\"upper\")\n",
    "for ij, v in np.ndenumerate(M):\n",
    "    i, j = ij\n",
    "    plt.text(j, i, str(v), color=\"white\", ha=\"center\", va=\"center\")\n",
    "plt.xlabel(\"predicted\")\n",
    "plt.ylabel(\"true\")\n",
    "plt.colorbar()\n",
    "plt.savefig(\"testing.png\", dpi=1000)"
   ]
  },
  {
   "cell_type": "markdown",
   "id": "76cd4de6",
   "metadata": {},
   "source": [
    "## 1f Sandbox"
   ]
  },
  {
   "cell_type": "code",
   "execution_count": 45,
   "id": "e617a791",
   "metadata": {
    "collapsed": false
   },
   "outputs": [],
   "source": [
    "# try adding more layers, regularization, etc.\n",
    "class MyCnn(nn.Module):\n",
    "    def __init__(self):\n",
    "        super(MyCnn, self).__init__()\n",
    "        # YOUR CODE HERE\n",
    "\n",
    "    def forward(self, x):\n",
    "        out = None\n",
    "        # YOUR CODE HERE\n",
    "\n",
    "        return out"
   ]
  },
  {
   "cell_type": "code",
   "execution_count": 46,
   "id": "c8054d81",
   "metadata": {
    "collapsed": false
   },
   "outputs": [],
   "source": [
    "my_cnn = MyCnn().to(DEVICE)"
   ]
  },
  {
   "cell_type": "code",
   "execution_count": null,
   "id": "ae64380d",
   "metadata": {
    "collapsed": false
   },
   "outputs": [],
   "source": [
    "# train\n",
    "mnist_train(my_cnn)\n",
    "# save(my_cnn, \"my_cnn.pt\")"
   ]
  },
  {
   "cell_type": "code",
   "execution_count": null,
   "id": "a03f9c48",
   "metadata": {
    "collapsed": false
   },
   "outputs": [],
   "source": [
    "# test\n",
    "# my_cnn = load(my_cnn, \"my_cnn.pt\")\n",
    "mnist_test(my_cnn)"
   ]
  },
  {
   "cell_type": "markdown",
   "id": "bc943bc8",
   "metadata": {},
   "source": [
    "# 2 Recurrent Neural Networks and Pretraining"
   ]
  },
  {
   "cell_type": "markdown",
   "id": "afcf0642",
   "metadata": {},
   "source": [
    "## Load and preprocess the data"
   ]
  },
  {
   "cell_type": "code",
   "execution_count": 4,
   "id": "facb8f04",
   "metadata": {
    "collapsed": false
   },
   "outputs": [
    {
     "name": "stdout",
     "output_type": "stream",
     "text": [
      "bromwell high is a cartoon comedy . it ran at the same time as some other programs about school life  such as  teachers  . my   years in the teaching profession lead me to believe that bromwell high  s satire is much closer to reality than is  teachers  . the scramble to survive financially  the insightful students who can see right through their pathetic teachers  pomp  the pettiness of the whole situation  all remind me of the schools i knew and their students . when i saw the episode in which a student repeatedly tried to burn down the school  i immediately recalled . . . . . . . . . at . . . . . . . . . . high . a classic line inspector i  m here to sack one of your teachers . student welcome to bromwell high . i expect that many adults of my age think that bromwell high is far fetched . what a pity that it isn  t   \n",
      "\n",
      "positive\n",
      "\n"
     ]
    }
   ],
   "source": [
    "# Load review and label data\n",
    "with open(os.path.join(DATA_PATH, \"reviews_small.txt\")) as f:\n",
    "    reviews_lines = f.readlines()\n",
    "\n",
    "with open(os.path.join(DATA_PATH, \"labels_small.txt\")) as f:\n",
    "    label_lines = f.readlines()\n",
    "\n",
    "print(reviews_lines[0])\n",
    "print(label_lines[0])"
   ]
  },
  {
   "cell_type": "code",
   "execution_count": 5,
   "id": "88d5c77e",
   "metadata": {
    "collapsed": false
   },
   "outputs": [
    {
     "name": "stdout",
     "output_type": "stream",
     "text": [
      "bromwell high is a cartoon comedy it ran at the same time as some other programs about school life such as teachers my years in the teaching profession lead me to believe that bromwell high s satire is much closer to reality than is teachers the scramble to survive financially the insightful students who can see right through their pathetic teachers pomp the pettiness of the whole situation all remind me of the schools i knew and their students when i saw the episode in which a student repeatedly tried to burn down the school i immediately recalled at high a classic line inspector i m here to sack one of your teachers student welcome to bromwell high i expect that many adults of my age think that bromwell high is far fetched what a pity that it isn t\n",
      "First ten words:  ['bromwell', 'high', 'is', 'a', 'cartoon', 'comedy', 'it', 'ran', 'at', 'the']\n",
      "First label:  1\n"
     ]
    }
   ],
   "source": [
    "# Remove punctuations from the reviews and split words\n",
    "raw_reviews, words, labels = reviews_preprocess(reviews_lines, label_lines)\n",
    "print(raw_reviews[0])\n",
    "print(\"First ten words: \", words[:10])\n",
    "print(\"First label: \", labels[0])"
   ]
  },
  {
   "cell_type": "code",
   "execution_count": 6,
   "id": "fee5f695",
   "metadata": {
    "collapsed": false
   },
   "outputs": [
    {
     "name": "stdout",
     "output_type": "stream",
     "text": [
      "1\n",
      "16\n"
     ]
    }
   ],
   "source": [
    "# Determine an integer id for each unique word\n",
    "word_ids = reviews_create_word_ids(words)\n",
    "print(word_ids.get(\"the\"))\n",
    "print(word_ids.get(\"movie\"))"
   ]
  },
  {
   "cell_type": "code",
   "execution_count": 7,
   "id": "66ba6e34",
   "metadata": {
    "collapsed": false
   },
   "outputs": [
    {
     "name": "stdout",
     "output_type": "stream",
     "text": [
      "bromwell high is a cartoon comedy it ran at the same time as some other programs about school life such as teachers my years in the teaching profession lead me to believe that bromwell high s satire is much closer to reality than is teachers the scramble to survive financially the insightful students who can see right through their pathetic teachers pomp the pettiness of the whole situation all remind me of the schools i knew and their students when i saw the episode in which a student repeatedly tried to burn down the school i immediately recalled at high a classic line inspector i m here to sack one of your teachers student welcome to bromwell high i expect that many adults of my age think that bromwell high is far fetched what a pity that it isn t\n",
      "[10455, 307, 6, 3, 1177, 202, 8, 2217, 33, 1, 168, 56, 15, 49, 85, 8269, 43, 422, 122, 140, 15, 3151, 59, 144, 9, 1, 5230, 5946, 452, 72, 5, 260, 12, 10455, 307, 13, 2017, 6, 73, 2765, 5, 689, 76, 6, 3151, 1, 19565, 5, 1706, 6897, 1, 5947, 1707, 36, 52, 68, 211, 143, 63, 1390, 3151, 14816, 1, 19566, 4, 1, 221, 755, 31, 2710, 72, 4, 1, 5948, 10, 729, 2, 63, 1707, 54, 10, 208, 1, 321, 9, 64, 3, 1578, 3922, 737, 5, 2843, 187, 1, 422, 10, 1246, 9217, 33, 307, 3, 380, 322, 5949, 10, 135, 136, 5, 9218, 30, 4, 134, 3151, 1578, 2480, 5, 10455, 307, 10, 528, 12, 113, 1839, 4, 59, 676, 103, 12, 10455, 307, 6, 227, 4097, 48, 3, 2169, 12, 8, 231, 21]\n"
     ]
    }
   ],
   "source": [
    "# Encode each word in the review by its unique identifier\n",
    "encoded_reviews = reviews_encode(word_ids, raw_reviews)\n",
    "print(raw_reviews[0])\n",
    "print(encoded_reviews[0])"
   ]
  },
  {
   "cell_type": "code",
   "execution_count": 8,
   "id": "eb122fb0",
   "metadata": {
    "collapsed": false
   },
   "outputs": [
    {
     "name": "stdout",
     "output_type": "stream",
     "text": [
      "[    0     0     0     0     0     0     0     0     0     0     0     0\n",
      "     0     0     0     0     0     0     0     0     0     0     0     0\n",
      "     0     0     0     0     0     0     0     0     0     0     0     0\n",
      "     0     0     0     0     0     0     0     0     0     0     0     0\n",
      "     0     0     0     0     0     0     0     0     0     0     0     0\n",
      " 10455   307     6     3  1177   202     8  2217    33     1   168    56\n",
      "    15    49    85  8269    43   422   122   140    15  3151    59   144\n",
      "     9     1  5230  5946   452    72     5   260    12 10455   307    13\n",
      "  2017     6    73  2765     5   689    76     6  3151     1 19565     5\n",
      "  1706  6897     1  5947  1707    36    52    68   211   143    63  1390\n",
      "  3151 14816     1 19566     4     1   221   755    31  2710    72     4\n",
      "     1  5948    10   729     2    63  1707    54    10   208     1   321\n",
      "     9    64     3  1578  3922   737     5  2843   187     1   422    10\n",
      "  1246  9217    33   307     3   380   322  5949    10   135   136     5\n",
      "  9218    30     4   134  3151  1578  2480     5 10455   307    10   528\n",
      "    12   113  1839     4    59   676   103    12 10455   307     6   227\n",
      "  4097    48     3  2169    12     8   231    21]\n"
     ]
    }
   ],
   "source": [
    "# Padding/truncating all reviews to the same length. Although this isn't strictly\n",
    "# necessary, it facilitates batch processing: all inputs of a batch need to have the\n",
    "# same length.\n",
    "sequence_length = 200\n",
    "padded_reviews = reviews_pad(encoded_reviews, sequence_length)\n",
    "print(padded_reviews[0])"
   ]
  },
  {
   "cell_type": "code",
   "execution_count": 9,
   "id": "793f145c",
   "metadata": {
    "collapsed": false
   },
   "outputs": [
    {
     "name": "stdout",
     "output_type": "stream",
     "text": [
      "3200 400 400\n"
     ]
    }
   ],
   "source": [
    "# Split dataset into 80% training, 10% test, and 10% validation Dataset\n",
    "train_x, train_y, valid_x, valid_y, test_x, test_y = reviews_split(\n",
    "    padded_reviews, labels\n",
    ")\n",
    "print(len(train_y), len(valid_y), len(test_y))"
   ]
  },
  {
   "cell_type": "code",
   "execution_count": 10,
   "id": "942dd1a9",
   "metadata": {
    "collapsed": false
   },
   "outputs": [],
   "source": [
    "# Create data loaders for training\n",
    "train_loader, valid_loader, test_loader = reviews_create_dataloaders(\n",
    "    train_x, train_y, valid_x, valid_y, test_x, test_y\n",
    ")"
   ]
  },
  {
   "cell_type": "code",
   "execution_count": 11,
   "id": "55b94355",
   "metadata": {
    "collapsed": false
   },
   "outputs": [
    {
     "ename": "NameError",
     "evalue": "name 'LogisticRegression' is not defined",
     "output_type": "error",
     "traceback": [
      "\u001b[0;31m---------------------------------------------------------------------------\u001b[0m",
      "\u001b[0;31mNameError\u001b[0m                                 Traceback (most recent call last)",
      "\u001b[1;32m/Users/timurcarstensen/Library/CloudStorage/OneDrive-bwedu/1. Modules/1. Master/1. MMDS/2. Semester/IE 678 - Deep Learning/4-Assignments/ie-678-deep-learning/dl22-a02/a02.ipynb Cell 39'\u001b[0m in \u001b[0;36m<module>\u001b[0;34m\u001b[0m\n\u001b[1;32m      <a href='vscode-notebook-cell:/Users/timurcarstensen/Library/CloudStorage/OneDrive-bwedu/1.%20Modules/1.%20Master/1.%20MMDS/2.%20Semester/IE%20678%20-%20Deep%20Learning/4-Assignments/ie-678-deep-learning/dl22-a02/a02.ipynb#ch0000038?line=0'>1</a>\u001b[0m \u001b[39m# Here is an example how to use the train and test functions. Note that logistic\u001b[39;00m\n\u001b[1;32m      <a href='vscode-notebook-cell:/Users/timurcarstensen/Library/CloudStorage/OneDrive-bwedu/1.%20Modules/1.%20Master/1.%20MMDS/2.%20Semester/IE%20678%20-%20Deep%20Learning/4-Assignments/ie-678-deep-learning/dl22-a02/a02.ipynb#ch0000038?line=1'>2</a>\u001b[0m \u001b[39m# regression is a bogus model when used like this (since its assigns weights to\u001b[39;00m\n\u001b[1;32m      <a href='vscode-notebook-cell:/Users/timurcarstensen/Library/CloudStorage/OneDrive-bwedu/1.%20Modules/1.%20Master/1.%20MMDS/2.%20Semester/IE%20678%20-%20Deep%20Learning/4-Assignments/ie-678-deep-learning/dl22-a02/a02.ipynb#ch0000038?line=2'>3</a>\u001b[0m \u001b[39m# positions, but not word ids). So results will be bad.\u001b[39;00m\n\u001b[0;32m----> <a href='vscode-notebook-cell:/Users/timurcarstensen/Library/CloudStorage/OneDrive-bwedu/1.%20Modules/1.%20Master/1.%20MMDS/2.%20Semester/IE%20678%20-%20Deep%20Learning/4-Assignments/ie-678-deep-learning/dl22-a02/a02.ipynb#ch0000038?line=3'>4</a>\u001b[0m model \u001b[39m=\u001b[39m LogisticRegression(sequence_length)\u001b[39m.\u001b[39mto(DEVICE)\n\u001b[1;32m      <a href='vscode-notebook-cell:/Users/timurcarstensen/Library/CloudStorage/OneDrive-bwedu/1.%20Modules/1.%20Master/1.%20MMDS/2.%20Semester/IE%20678%20-%20Deep%20Learning/4-Assignments/ie-678-deep-learning/dl22-a02/a02.ipynb#ch0000038?line=4'>5</a>\u001b[0m reviews_train(model, train_loader, valid_loader, epochs\u001b[39m=\u001b[39m\u001b[39m3\u001b[39m, device\u001b[39m=\u001b[39mDEVICE)\n\u001b[1;32m      <a href='vscode-notebook-cell:/Users/timurcarstensen/Library/CloudStorage/OneDrive-bwedu/1.%20Modules/1.%20Master/1.%20MMDS/2.%20Semester/IE%20678%20-%20Deep%20Learning/4-Assignments/ie-678-deep-learning/dl22-a02/a02.ipynb#ch0000038?line=5'>6</a>\u001b[0m reviews_test(model, test_loader, device\u001b[39m=\u001b[39mDEVICE)\n",
      "\u001b[0;31mNameError\u001b[0m: name 'LogisticRegression' is not defined"
     ]
    }
   ],
   "source": [
    "# Here is an example how to use the train and test functions. Note that logistic\n",
    "# regression is a bogus model when used like this (since its assigns weights to\n",
    "# positions, but not word ids). So results will be bad.\n",
    "model = LogisticRegression(sequence_length).to(DEVICE)\n",
    "reviews_train(model, train_loader, valid_loader, epochs=3, device=DEVICE)\n",
    "reviews_test(model, test_loader, device=DEVICE)"
   ]
  },
  {
   "cell_type": "markdown",
   "id": "635308d8",
   "metadata": {},
   "source": [
    "## 2a Define your model"
   ]
  },
  {
   "cell_type": "code",
   "execution_count": 17,
   "id": "152e66ee",
   "metadata": {
    "collapsed": false
   },
   "outputs": [],
   "source": [
    "# Create an LSTM for sentiment analysis\n",
    "class SimpleLSTM(nn.Module):\n",
    "    \"\"\"\n",
    "    The RNN model that will be used to perform sentiment analysis.\n",
    "    \"\"\"\n",
    "\n",
    "    def __init__(\n",
    "        self,\n",
    "        vocab_size,\n",
    "        embedding_dim,\n",
    "        hidden_dim,\n",
    "        num_layers=1,\n",
    "        lstm_dropout_prob=0.5,\n",
    "        dropout_prob=0.3,\n",
    "    ):\n",
    "        \"\"\"\n",
    "        Initialize the model by setting up the layers\n",
    "\n",
    "        Parameters\n",
    "        ----------\n",
    "        vocab_size: number of unique words in the reviews\n",
    "        embeddings_dim: size of the embeddings\n",
    "        hidden_dim: dimension of the LSTM output\n",
    "        num_layers: number of LSTM layers\n",
    "        lstm_dropout_prob: dropout applied between the LSTM layers\n",
    "        dropout_prob: dropout applied before the fully connected layer\n",
    "        \"\"\"\n",
    "        super().__init__()\n",
    "\n",
    "        self.num_layers = num_layers\n",
    "        self.hidden_dim = hidden_dim\n",
    "\n",
    "        self.embedding = nn.Embedding(\n",
    "            num_embeddings=vocab_size, \n",
    "            embedding_dim=embedding_dim\n",
    "            )\n",
    "\n",
    "        self.lstm = nn.LSTM(\n",
    "            input_size=embedding_dim, \n",
    "            hidden_size=hidden_dim, \n",
    "            num_layers=num_layers, \n",
    "            batch_first=True, \n",
    "            dropout=lstm_dropout_prob\n",
    "            )\n",
    "        \n",
    "        self.dropout = nn.Dropout(\n",
    "            p=dropout_prob, \n",
    "            inplace=False\n",
    "            )\n",
    "        \n",
    "        self.fc = nn.Linear(\n",
    "            in_features=hidden_dim, \n",
    "            out_features=1\n",
    "            )\n",
    "\n",
    "        self.sigmoid = nn.Sigmoid()\n",
    "\n",
    "\n",
    "        # YOUR CODE HERE\n",
    "\n",
    "    def forward(self, x):\n",
    "        \"\"\"\n",
    "        Perform a forward pass of our model on some input and hidden state.\n",
    "\n",
    "        Parameters\n",
    "        ----------\n",
    "        x: batch as a (batch_size, sequence_length) tensor\n",
    "\n",
    "        Returns\n",
    "        -------\n",
    "        Probability of positive class.\n",
    "        \"\"\"\n",
    "        # init hidden layer, which is needed for the LSTM\n",
    "        batch_size = len(x)\n",
    "        hidden = self.init_hidden(batch_size)\n",
    "        # print(f\"shape of hidden represenation: {[x.shape for x in hidden]} \\n\")\n",
    "\n",
    "        # YOUR CODE HERE\n",
    "        embedding = self.embedding(x)     \n",
    "        # print(f\"shape of embedding represenation: {[x.shape for x in embedding]} \\n\")\n",
    "        \n",
    "        out, (hidden, cell_state) = self.lstm(embedding, hidden)\n",
    "        # print(f\"shape of lstm output: {[x.shape for x in out]} \\n\")\n",
    "        # print(f\"number of lstm outputs: {len(out)} \\n\")\n",
    "        # print(f\"shape of LSTM output: {out.shape} \\n\")\n",
    "        # print(f\"lstm out: {out} \\n\")\n",
    "        # print(f\"lstm hidden: {hidden} \\n\")\n",
    "        out = self.dropout(out[:, -1, :])\n",
    "        \n",
    "        out = self.fc(out)\n",
    "        \n",
    "        # print(out)\n",
    "        out = self.sigmoid(out)\n",
    "        \n",
    "\n",
    "        return out\n",
    "        \n",
    "\n",
    "    def init_hidden(self, batch_size):\n",
    "        \"\"\"\n",
    "        Initialize hidden state.\n",
    "\n",
    "        Returns\n",
    "        -------\n",
    "        Empty hidden LSTM state.\n",
    "        \"\"\"\n",
    "\n",
    "        # Create two new tensors with sizes num_layers x batch_size x hidden_dim,\n",
    "        # initialized to zero, for hidden state and cell state of LSTM\n",
    "        weight = next(self.parameters())  # only used to determine device\n",
    "\n",
    "        hidden = (\n",
    "            weight.new(self.num_layers, batch_size, self.hidden_dim).zero_(),\n",
    "            weight.new(self.num_layers, batch_size, self.hidden_dim).zero_(),\n",
    "        )\n",
    "\n",
    "        return hidden"
   ]
  },
  {
   "cell_type": "code",
   "execution_count": 18,
   "id": "19c3ed46",
   "metadata": {
    "collapsed": false
   },
   "outputs": [
    {
     "name": "stdout",
     "output_type": "stream",
     "text": [
      "SimpleLSTM(\n",
      "  (embedding): Embedding(1, 10)\n",
      "  (lstm): LSTM(10, 32, num_layers=2, batch_first=True)\n",
      "  (dropout): Dropout(p=0, inplace=False)\n",
      "  (fc): Linear(in_features=32, out_features=1, bias=True)\n",
      "  (sigmoid): Sigmoid()\n",
      ")\n"
     ]
    }
   ],
   "source": [
    "# Test model setup\n",
    "lstm_model = SimpleLSTM(1, 10, 32, 2, 0, 0).to(DEVICE)\n",
    "print(lstm_model)\n",
    "\n",
    "# SimpleLSTM(\n",
    "#   (embedding): Embedding(1, 10)\n",
    "#   (lstm): LSTM(10, 32, num_layers=2, batch_first=True, dropout=0.0)\n",
    "#   (dropout): Dropout(p=0.0, inplace=False)\n",
    "#   (fc): Linear(in_features=32, out_features=1, bias=True)\n",
    "#   (sigmoid): Sigmoid()\n",
    "# )"
   ]
  },
  {
   "cell_type": "code",
   "execution_count": 19,
   "id": "fba891c4",
   "metadata": {
    "collapsed": false
   },
   "outputs": [
    {
     "name": "stdout",
     "output_type": "stream",
     "text": [
      "tensor([[0.9643, 0.9643, 0.9643, 0.9643, 0.9643],\n",
      "        [0.9643, 0.9643, 0.9643, 0.9643, 0.9643],\n",
      "        [0.9643, 0.9643, 0.9643, 0.9643, 0.9643],\n",
      "        [0.9643, 0.9643, 0.9643, 0.9643, 0.9643],\n",
      "        [0.9643, 0.9643, 0.9643, 0.9643, 0.9643],\n",
      "        [0.9643, 0.9643, 0.9643, 0.9643, 0.9643],\n",
      "        [0.9643, 0.9643, 0.9643, 0.9643, 0.9643],\n",
      "        [0.9643, 0.9643, 0.9643, 0.9643, 0.9643],\n",
      "        [0.9643, 0.9643, 0.9643, 0.9643, 0.9643],\n",
      "        [0.9643, 0.9643, 0.9643, 0.9643, 0.9643]],\n",
      "       grad_fn=<ReshapeAliasBackward0>)\n"
     ]
    }
   ],
   "source": [
    "# Test forward function. \n",
    "# dummy data\n",
    "dummy_data = torch.zeros(train_loader.batch_size, sequence_length).long().to(DEVICE)\n",
    "# fix model parameters\n",
    "for key in lstm_model.state_dict():\n",
    "    lstm_model.state_dict()[key][:] = 0.1\n",
    "print(lstm_model(dummy_data).reshape(10, -1))\n",
    "# Output after reshape should be the following tensor\n",
    "#tensor([[0.9643, 0.9643, 0.9643, 0.9643, 0.9643],\n",
    "#        [0.9643, 0.9643, 0.9643, 0.9643, 0.9643],\n",
    "#        [0.9643, 0.9643, 0.9643, 0.9643, 0.9643],\n",
    "#        [0.9643, 0.9643, 0.9643, 0.9643, 0.9643],\n",
    "#        [0.9643, 0.9643, 0.9643, 0.9643, 0.9643],\n",
    "#        [0.9643, 0.9643, 0.9643, 0.9643, 0.9643],\n",
    "#        [0.9643, 0.9643, 0.9643, 0.9643, 0.9643],\n",
    "#        [0.9643, 0.9643, 0.9643, 0.9643, 0.9643],\n",
    "#        [0.9643, 0.9643, 0.9643, 0.9643, 0.9643],\n",
    "#        [0.9643, 0.9643, 0.9643, 0.9643, 0.9643]], device='cuda or cpu',\n",
    "#       grad_fn=<ViewBackward>)"
   ]
  },
  {
   "cell_type": "markdown",
   "id": "1fa0da00",
   "metadata": {},
   "source": [
    "## 2b Train and evaluate the model"
   ]
  },
  {
   "cell_type": "code",
   "execution_count": 20,
   "id": "4b04e781",
   "metadata": {
    "collapsed": false
   },
   "outputs": [],
   "source": [
    "# Instantiate the model w/ hyperparams\n",
    "vocab_size = len(word_ids) + 1  # +1 for the 0 padding\n",
    "embedding_dim = 100\n",
    "hidden_dim = 64\n",
    "num_layers = 1\n",
    "\n",
    "# this may raise a warning when num_layers=1 (which is fine)\n",
    "# make sure to reinizialize the model if you want to train multiple times\n",
    "lstm_model = SimpleLSTM(vocab_size, embedding_dim, hidden_dim, num_layers).to(DEVICE)"
   ]
  },
  {
   "cell_type": "code",
   "execution_count": 21,
   "id": "1d10dceb",
   "metadata": {
    "collapsed": false
   },
   "outputs": [
    {
     "name": "stdout",
     "output_type": "stream",
     "text": [
      "Starting epoch 1\n",
      "Epoch:  1/ 5    Batch:  5   Batch loss: 0.710292    Val loss: 0.689997 Val acc: 0.515000\n",
      "Epoch:  1/ 5    Batch: 10   Batch loss: 0.670788    Val loss: 0.687631 Val acc: 0.545000\n",
      "Epoch:  1/ 5    Batch: 15   Batch loss: 0.705118    Val loss: 0.686999 Val acc: 0.532500\n",
      "Epoch:  1/ 5    Batch: 20   Batch loss: 0.696307    Val loss: 0.686578 Val acc: 0.547500\n",
      "Epoch:  1/ 5    Batch: 25   Batch loss: 0.673388    Val loss: 0.684610 Val acc: 0.547500\n",
      "Epoch:  1/ 5    Batch: 30   Batch loss: 0.692047    Val loss: 0.684232 Val acc: 0.557500\n",
      "Epoch:  1/ 5    Batch: 35   Batch loss: 0.706101    Val loss: 0.684290 Val acc: 0.552500\n",
      "Epoch:  1/ 5    Batch: 40   Batch loss: 0.678198    Val loss: 0.682825 Val acc: 0.545000\n",
      "Epoch:  1/ 5    Batch: 45   Batch loss: 0.695618    Val loss: 0.682859 Val acc: 0.562500\n",
      "Epoch:  1/ 5    Batch: 50   Batch loss: 0.685332    Val loss: 0.681706 Val acc: 0.550000\n",
      "Epoch:  1/ 5    Batch: 55   Batch loss: 0.673047    Val loss: 0.681690 Val acc: 0.552500\n",
      "Epoch:  1/ 5    Batch: 60   Batch loss: 0.676936    Val loss: 0.679366 Val acc: 0.542500\n",
      "96\n",
      "Finished epoch 1. Average batch loss: 0.6872616754844785. Average validation loss: 0.6843984872102737\n",
      "Starting epoch 2\n",
      "Epoch:  2/ 5    Batch: 65   Batch loss: 0.683470    Val loss: 0.678661 Val acc: 0.560000\n",
      "Epoch:  2/ 5    Batch: 70   Batch loss: 0.645485    Val loss: 0.676218 Val acc: 0.582500\n",
      "Epoch:  2/ 5    Batch: 75   Batch loss: 0.616327    Val loss: 0.675875 Val acc: 0.562500\n",
      "Epoch:  2/ 5    Batch: 80   Batch loss: 0.629467    Val loss: 0.668188 Val acc: 0.605000\n",
      "Epoch:  2/ 5    Batch: 85   Batch loss: 0.603317    Val loss: 0.670077 Val acc: 0.585000\n",
      "Epoch:  2/ 5    Batch: 90   Batch loss: 0.607771    Val loss: 0.668891 Val acc: 0.587500\n",
      "Epoch:  2/ 5    Batch: 95   Batch loss: 0.628573    Val loss: 0.662147 Val acc: 0.617500\n",
      "Epoch:  2/ 5    Batch: 100   Batch loss: 0.621446    Val loss: 0.666316 Val acc: 0.610000\n",
      "Epoch:  2/ 5    Batch: 105   Batch loss: 0.532221    Val loss: 0.644820 Val acc: 0.650000\n",
      "Epoch:  2/ 5    Batch: 110   Batch loss: 0.661708    Val loss: 0.656327 Val acc: 0.632500\n",
      "Epoch:  2/ 5    Batch: 115   Batch loss: 0.560296    Val loss: 0.658526 Val acc: 0.600000\n",
      "Epoch:  2/ 5    Batch: 120   Batch loss: 0.544663    Val loss: 0.663966 Val acc: 0.562500\n",
      "Epoch:  2/ 5    Batch: 125   Batch loss: 0.640561    Val loss: 0.661456 Val acc: 0.610000\n",
      "104\n",
      "Finished epoch 2. Average batch loss: 0.6077457461506128. Average validation loss: 0.6654974904197913\n",
      "Starting epoch 3\n",
      "Epoch:  3/ 5    Batch: 130   Batch loss: 0.485625    Val loss: 0.708251 Val acc: 0.610000\n",
      "Epoch:  3/ 5    Batch: 135   Batch loss: 0.464065    Val loss: 0.630289 Val acc: 0.657500\n",
      "Epoch:  3/ 5    Batch: 140   Batch loss: 0.490777    Val loss: 0.643368 Val acc: 0.635000\n",
      "Epoch:  3/ 5    Batch: 145   Batch loss: 0.544250    Val loss: 0.632635 Val acc: 0.637500\n",
      "Epoch:  3/ 5    Batch: 150   Batch loss: 0.460204    Val loss: 0.650867 Val acc: 0.600000\n",
      "Epoch:  3/ 5    Batch: 155   Batch loss: 0.496263    Val loss: 0.635614 Val acc: 0.647500\n",
      "Epoch:  3/ 5    Batch: 160   Batch loss: 0.539332    Val loss: 0.618583 Val acc: 0.642500\n",
      "Epoch:  3/ 5    Batch: 165   Batch loss: 0.576244    Val loss: 0.625226 Val acc: 0.652500\n",
      "Epoch:  3/ 5    Batch: 170   Batch loss: 0.507630    Val loss: 0.624644 Val acc: 0.667500\n",
      "Epoch:  3/ 5    Batch: 175   Batch loss: 0.545508    Val loss: 0.614249 Val acc: 0.682500\n",
      "Epoch:  3/ 5    Batch: 180   Batch loss: 0.454201    Val loss: 0.605970 Val acc: 0.662500\n",
      "Epoch:  3/ 5    Batch: 185   Batch loss: 0.399768    Val loss: 0.588855 Val acc: 0.712500\n",
      "Epoch:  3/ 5    Batch: 190   Batch loss: 0.547244    Val loss: 0.613527 Val acc: 0.657500\n",
      "104\n",
      "Finished epoch 3. Average batch loss: 0.5060007693246007. Average validation loss: 0.630159810758554\n",
      "Starting epoch 4\n",
      "Epoch:  4/ 5    Batch: 195   Batch loss: 0.528573    Val loss: 0.601785 Val acc: 0.667500\n",
      "Epoch:  4/ 5    Batch: 200   Batch loss: 0.359379    Val loss: 0.626283 Val acc: 0.647500\n",
      "Epoch:  4/ 5    Batch: 205   Batch loss: 0.308023    Val loss: 0.586697 Val acc: 0.707500\n",
      "Epoch:  4/ 5    Batch: 210   Batch loss: 0.676669    Val loss: 1.100777 Val acc: 0.560000\n",
      "Epoch:  4/ 5    Batch: 215   Batch loss: 0.363380    Val loss: 0.612647 Val acc: 0.705000\n",
      "Epoch:  4/ 5    Batch: 220   Batch loss: 0.448711    Val loss: 0.576349 Val acc: 0.715000\n",
      "Epoch:  4/ 5    Batch: 225   Batch loss: 0.440962    Val loss: 0.579091 Val acc: 0.695000\n",
      "Epoch:  4/ 5    Batch: 230   Batch loss: 0.412600    Val loss: 0.579181 Val acc: 0.687500\n",
      "Epoch:  4/ 5    Batch: 235   Batch loss: 0.482336    Val loss: 0.592404 Val acc: 0.695000\n",
      "Epoch:  4/ 5    Batch: 240   Batch loss: 0.301332    Val loss: 0.579172 Val acc: 0.720000\n",
      "Epoch:  4/ 5    Batch: 245   Batch loss: 0.353095    Val loss: 0.575055 Val acc: 0.705000\n",
      "Epoch:  4/ 5    Batch: 250   Batch loss: 0.379888    Val loss: 0.616041 Val acc: 0.682500\n",
      "Epoch:  4/ 5    Batch: 255   Batch loss: 0.418778    Val loss: 0.578219 Val acc: 0.722500\n",
      "104\n",
      "Finished epoch 4. Average batch loss: 0.44347705505788326. Average validation loss: 0.6310537755489349\n",
      "Starting epoch 5\n",
      "Epoch:  5/ 5    Batch: 260   Batch loss: 0.347637    Val loss: 0.595823 Val acc: 0.697500\n",
      "Epoch:  5/ 5    Batch: 265   Batch loss: 0.502298    Val loss: 0.614559 Val acc: 0.685000\n",
      "Epoch:  5/ 5    Batch: 270   Batch loss: 0.428178    Val loss: 0.580605 Val acc: 0.725000\n",
      "Epoch:  5/ 5    Batch: 275   Batch loss: 0.230405    Val loss: 0.574519 Val acc: 0.735000\n",
      "Epoch:  5/ 5    Batch: 280   Batch loss: 0.245947    Val loss: 0.595697 Val acc: 0.712500\n",
      "Epoch:  5/ 5    Batch: 285   Batch loss: 0.344496    Val loss: 0.595016 Val acc: 0.700000\n",
      "Epoch:  5/ 5    Batch: 290   Batch loss: 0.460641    Val loss: 0.607578 Val acc: 0.697500\n",
      "Epoch:  5/ 5    Batch: 295   Batch loss: 0.332908    Val loss: 0.583604 Val acc: 0.720000\n",
      "Epoch:  5/ 5    Batch: 300   Batch loss: 0.363302    Val loss: 0.575552 Val acc: 0.722500\n",
      "Epoch:  5/ 5    Batch: 305   Batch loss: 0.346483    Val loss: 0.586234 Val acc: 0.700000\n",
      "Epoch:  5/ 5    Batch: 310   Batch loss: 0.291196    Val loss: 0.584270 Val acc: 0.722500\n",
      "Epoch:  5/ 5    Batch: 315   Batch loss: 0.338883    Val loss: 0.584716 Val acc: 0.707500\n",
      "Epoch:  5/ 5    Batch: 320   Batch loss: 0.372010    Val loss: 0.595363 Val acc: 0.712500\n",
      "104\n",
      "Finished epoch 5. Average batch loss: 0.3474283532705158. Average validation loss: 0.5902718835725234\n"
     ]
    }
   ],
   "source": [
    "# Fit and evaluate a model (without pretrained embeddings)\n",
    "n_epochs = 5\n",
    "# YOUR CODE HERE\n",
    "reviews_train(lstm_model, train_loader, valid_loader, epochs=5, device=DEVICE)"
   ]
  },
  {
   "cell_type": "code",
   "execution_count": 22,
   "id": "1a724a05",
   "metadata": {},
   "outputs": [
    {
     "name": "stdout",
     "output_type": "stream",
     "text": [
      "Test loss: 0.695\n",
      "Test accuracy: 0.655\n"
     ]
    }
   ],
   "source": [
    "reviews_test(lstm_model, test_loader, device=DEVICE)"
   ]
  },
  {
   "cell_type": "markdown",
   "id": "2b809908",
   "metadata": {},
   "source": [
    "#### training for 10 epochs to see if the model converges on train"
   ]
  },
  {
   "cell_type": "code",
   "execution_count": null,
   "id": "f6a5db13",
   "metadata": {},
   "outputs": [],
   "source": []
  },
  {
   "cell_type": "markdown",
   "id": "931a7a27",
   "metadata": {},
   "source": [
    "## 2c Load pretrained word embeddings"
   ]
  },
  {
   "cell_type": "code",
   "execution_count": 23,
   "id": "6d87e5f4",
   "metadata": {
    "collapsed": false
   },
   "outputs": [],
   "source": [
    "@torch.no_grad()\n",
    "def reviews_load_embeddings(\n",
    "    embedding_layer, word_ids, pretrained_embeddings_file=\"data/word-embeddings.txt\"\n",
    "):\n",
    "    \"\"\"Load pretrained embeddings into an embedding layer.\n",
    "\n",
    "    Updates the weights of the embedding layer with with the embeddings given in the\n",
    "    provided word embeddings file.\n",
    "\n",
    "    Parameters\n",
    "    ----------\n",
    "    embedding_layer: torch.nn.Embedding used in the model\n",
    "    word_ids: dictionary mapping each word to its unique identifier\n",
    "    pretrained_embeddings_file: path to the file containing pretrained embeddings\n",
    "\n",
    "    \"\"\"\n",
    "    print(\"Initializing embedding layer with pretrained word embeddings...\")\n",
    "    embeddings_index = dict()\n",
    "    words_initialized = 0\n",
    "    with open(pretrained_embeddings_file, encoding=\"utf8\") as f:\n",
    "        for line in f:\n",
    "            values = line.split()\n",
    "            word = values[0]\n",
    "            encoded_word = word_ids.get(word)\n",
    "            if encoded_word is not None:\n",
    "                words_initialized += 1\n",
    "                embedding_layer.weight[encoded_word, :] = torch.from_numpy(\n",
    "                    np.asarray(values[1:], dtype=\"float32\")\n",
    "                )\n",
    "    print(\n",
    "        \"Initialized {}/{} word embeddings\".format(\n",
    "            words_initialized, embedding_layer.num_embeddings\n",
    "        )\n",
    "    )"
   ]
  },
  {
   "cell_type": "code",
   "execution_count": 24,
   "id": "abf574a9",
   "metadata": {
    "collapsed": false
   },
   "outputs": [
    {
     "name": "stdout",
     "output_type": "stream",
     "text": [
      "Initializing embedding layer with pretrained word embeddings...\n",
      "Initialized 29841/32363 word embeddings\n",
      "tensor([[ 0.3825,  0.1482,  0.6060, -0.5153,  0.4399,  0.0611, -0.6272, -0.0254,\n",
      "          0.1643, -0.2210,  0.1442, -0.3721, -0.2168, -0.0890,  0.0979,  0.6561,\n",
      "          0.6446,  0.4770,  0.8385,  1.6486,  0.8892, -0.1181, -0.0125, -0.5208,\n",
      "          0.7785,  0.4872, -0.0150, -0.1413, -0.3475, -0.2959,  0.1028,  0.5719,\n",
      "         -0.0456,  0.0264,  0.5382,  0.3226,  0.4079, -0.0436, -0.1460, -0.4835,\n",
      "          0.3204,  0.5509, -0.7626,  0.4327,  0.6175, -0.3650, -0.6060, -0.7962,\n",
      "          0.3929, -0.2367, -0.3472, -0.6120,  0.5475,  0.9481,  0.2094, -2.7771,\n",
      "         -0.6022,  0.8495,  1.2549,  0.0179, -0.0419,  2.1147, -0.0266, -0.2810,\n",
      "          0.6812, -0.1417,  0.9925,  0.4988, -0.6754,  0.6417,  0.4230, -0.2791,\n",
      "          0.0634,  0.6891, -0.3618,  0.0537, -0.1681,  0.1942, -0.4707, -0.1480,\n",
      "         -0.5899, -0.2797,  0.1679,  0.1057, -1.7601,  0.0088, -0.8333, -0.5836,\n",
      "         -0.3708, -0.5659,  0.2070,  0.0713,  0.0556, -0.2976, -0.0727, -0.2560,\n",
      "          0.4269,  0.0589,  0.0911,  0.4728]], grad_fn=<EmbeddingBackward0>)\n"
     ]
    }
   ],
   "source": [
    "# Try it\n",
    "test_embeddings = nn.Embedding(len(word_ids) + 1, 100).to(DEVICE)\n",
    "reviews_load_embeddings(test_embeddings, word_ids)\n",
    "print(test_embeddings(torch.LongTensor([word_ids.get(\"movie\")]).to(DEVICE)))\n",
    "del test_embeddings"
   ]
  },
  {
   "cell_type": "code",
   "execution_count": 25,
   "id": "8320efe8",
   "metadata": {},
   "outputs": [
    {
     "name": "stdout",
     "output_type": "stream",
     "text": [
      "Number of words in Glove Embedding: 29841\n"
     ]
    }
   ],
   "source": [
    "emmbed_dict = {}\n",
    "number_lines = 0\n",
    "with open(\"data/word-embeddings.txt\") as f:\n",
    "    for line in f:\n",
    "        values = line.split()\n",
    "        word = values[0]\n",
    "        vector = np.asarray(values[1:],'float32')\n",
    "        emmbed_dict[word]=vector\n",
    "        number_lines += 1\n",
    "print(f\"Number of words in Glove Embedding: {number_lines}\")"
   ]
  },
  {
   "cell_type": "code",
   "execution_count": 26,
   "id": "aab35bd8",
   "metadata": {},
   "outputs": [
    {
     "data": {
      "text/plain": [
       "100"
      ]
     },
     "execution_count": 26,
     "metadata": {},
     "output_type": "execute_result"
    }
   ],
   "source": [
    "\n",
    "len(emmbed_dict['in'])\n",
    "# each word is associated with a vector of length 100"
   ]
  },
  {
   "cell_type": "markdown",
   "id": "5ffd3100",
   "metadata": {},
   "source": [
    "length of word ids is 32363 and the number of words in the embedding file is 29841; every word from the embedding file is used in the review dataset"
   ]
  },
  {
   "cell_type": "markdown",
   "id": "5fb32439",
   "metadata": {},
   "source": [
    "## 2d Train and evaluate with pretraining"
   ]
  },
  {
   "cell_type": "code",
   "execution_count": 27,
   "id": "773531d7",
   "metadata": {
    "collapsed": false
   },
   "outputs": [],
   "source": [
    "# Fit and evaluate a model with pretrained embeddings without fine-tuning\n",
    "class EmbeddingLSTM(nn.Module):\n",
    "    \"\"\"\n",
    "    The RNN model that will be used to perform sentiment analysis.\n",
    "    \"\"\"\n",
    "\n",
    "    def __init__(\n",
    "        self,\n",
    "        vocab_size,\n",
    "        embedding_dim,\n",
    "        hidden_dim,\n",
    "        num_layers=1,\n",
    "        lstm_dropout_prob=0.5,\n",
    "        dropout_prob=0.3,\n",
    "        finetuning=False\n",
    "    ):\n",
    "        \"\"\"\n",
    "        Initialize the model by setting up the layers\n",
    "\n",
    "        Parameters\n",
    "        ----------\n",
    "        vocab_size: number of unique words in the reviews\n",
    "        embeddings_dim: size of the embeddings\n",
    "        hidden_dim: dimension of the LSTM output\n",
    "        num_layers: number of LSTM layers\n",
    "        lstm_dropout_prob: dropout applied between the LSTM layers\n",
    "        dropout_prob: dropout applied before the fully connected layer\n",
    "        \"\"\"\n",
    "        super().__init__()\n",
    "        self.finetuning = finetuning\n",
    "        self.num_layers = num_layers\n",
    "        self.hidden_dim = hidden_dim\n",
    "\n",
    "        self.embedding = nn.Embedding(\n",
    "            num_embeddings=vocab_size, \n",
    "            embedding_dim=embedding_dim\n",
    "            )\n",
    "\n",
    "        reviews_load_embeddings(embedding_layer=self.embedding, word_ids=word_ids)\n",
    "\n",
    "        self.lstm = nn.LSTM(\n",
    "            input_size=embedding_dim, \n",
    "            hidden_size=hidden_dim, \n",
    "            num_layers=num_layers, \n",
    "            batch_first=True, \n",
    "            dropout=lstm_dropout_prob\n",
    "            )\n",
    "        \n",
    "        self.dropout = nn.Dropout(\n",
    "            p=dropout_prob, \n",
    "            inplace=False\n",
    "            )\n",
    "        \n",
    "        self.fc = nn.Linear(\n",
    "            in_features=hidden_dim, \n",
    "            out_features=1\n",
    "            )\n",
    "\n",
    "        self.sigmoid = nn.Sigmoid()\n",
    "\n",
    "\n",
    "        # YOUR CODE HERE\n",
    "\n",
    "    def forward(self, x):\n",
    "        \"\"\"\n",
    "        Perform a forward pass of our model on some input and hidden state.\n",
    "\n",
    "        Parameters\n",
    "        ----------\n",
    "        x: batch as a (batch_size, sequence_length) tensor\n",
    "\n",
    "        Returns\n",
    "        -------\n",
    "        Probability of positive class.\n",
    "        \"\"\"\n",
    "        # init hidden layer, which is needed for the LSTM\n",
    "        batch_size = len(x)\n",
    "        hidden = self.init_hidden(batch_size)\n",
    "        \n",
    "        # YOUR CODE HERE\n",
    "\n",
    "        self.embedding.weight.requires_grad = self.finetuning\n",
    "        embedding = self.embedding(x)        \n",
    "        out, (hidden, cell_state) = self.lstm(embedding, hidden)\n",
    "        out = self.dropout(out[:, -1, :])\n",
    "        out = self.fc(out)\n",
    "        out = self.sigmoid(out)\n",
    "        return out\n",
    "        \n",
    "    def init_hidden(self, batch_size):\n",
    "        \"\"\"\n",
    "        Initialize hidden state.\n",
    "\n",
    "        Returns\n",
    "        -------\n",
    "        Empty hidden LSTM state.\n",
    "        \"\"\"\n",
    "\n",
    "        # Create two new tensors with sizes num_layers x batch_size x hidden_dim,\n",
    "        # initialized to zero, for hidden state and cell state of LSTM\n",
    "        weight = next(self.parameters())  # only used to determine device\n",
    "\n",
    "        hidden = (\n",
    "            weight.new(self.num_layers, batch_size, self.hidden_dim).zero_(),\n",
    "            weight.new(self.num_layers, batch_size, self.hidden_dim).zero_(),\n",
    "        )\n",
    "\n",
    "        return hidden"
   ]
  },
  {
   "cell_type": "code",
   "execution_count": 28,
   "id": "7e9ed9e2",
   "metadata": {
    "collapsed": false
   },
   "outputs": [
    {
     "name": "stdout",
     "output_type": "stream",
     "text": [
      "Initializing embedding layer with pretrained word embeddings...\n",
      "Initialized 29841/32363 word embeddings\n",
      "Starting epoch 1\n",
      "Epoch:  1/ 5    Batch:  5   Batch loss: 0.710464    Val loss: 0.699767 Val acc: 0.512500\n",
      "Epoch:  1/ 5    Batch: 10   Batch loss: 0.684734    Val loss: 0.695903 Val acc: 0.500000\n",
      "Epoch:  1/ 5    Batch: 15   Batch loss: 0.680320    Val loss: 0.689206 Val acc: 0.552500\n",
      "Epoch:  1/ 5    Batch: 20   Batch loss: 0.677060    Val loss: 0.689100 Val acc: 0.532500\n",
      "Epoch:  1/ 5    Batch: 25   Batch loss: 0.683842    Val loss: 0.688320 Val acc: 0.535000\n",
      "Epoch:  1/ 5    Batch: 30   Batch loss: 0.697733    Val loss: 0.687791 Val acc: 0.517500\n",
      "Epoch:  1/ 5    Batch: 35   Batch loss: 0.681776    Val loss: 0.683834 Val acc: 0.567500\n",
      "Epoch:  1/ 5    Batch: 40   Batch loss: 0.700669    Val loss: 0.683577 Val acc: 0.567500\n",
      "Epoch:  1/ 5    Batch: 45   Batch loss: 0.704144    Val loss: 0.684707 Val acc: 0.552500\n",
      "Epoch:  1/ 5    Batch: 50   Batch loss: 0.662856    Val loss: 0.686202 Val acc: 0.537500\n",
      "Epoch:  1/ 5    Batch: 55   Batch loss: 0.643904    Val loss: 0.675397 Val acc: 0.585000\n",
      "Epoch:  1/ 5    Batch: 60   Batch loss: 0.674439    Val loss: 0.671828 Val acc: 0.592500\n",
      "96\n",
      "Finished epoch 1. Average batch loss: 0.6858562240377069. Average validation loss: 0.6863027562697729\n",
      "Starting epoch 2\n",
      "Epoch:  2/ 5    Batch: 65   Batch loss: 0.668603    Val loss: 0.693865 Val acc: 0.547500\n",
      "Epoch:  2/ 5    Batch: 70   Batch loss: 0.660033    Val loss: 0.664889 Val acc: 0.600000\n",
      "Epoch:  2/ 5    Batch: 75   Batch loss: 0.604151    Val loss: 0.653945 Val acc: 0.615000\n",
      "Epoch:  2/ 5    Batch: 80   Batch loss: 0.730161    Val loss: 0.697948 Val acc: 0.555000\n",
      "Epoch:  2/ 5    Batch: 85   Batch loss: 0.585495    Val loss: 0.648603 Val acc: 0.632500\n",
      "Epoch:  2/ 5    Batch: 90   Batch loss: 0.652392    Val loss: 0.684711 Val acc: 0.560000\n",
      "Epoch:  2/ 5    Batch: 95   Batch loss: 0.632004    Val loss: 0.659182 Val acc: 0.602500\n",
      "Epoch:  2/ 5    Batch: 100   Batch loss: 0.632115    Val loss: 0.647524 Val acc: 0.640000\n",
      "Epoch:  2/ 5    Batch: 105   Batch loss: 0.574239    Val loss: 0.734936 Val acc: 0.522500\n",
      "Epoch:  2/ 5    Batch: 110   Batch loss: 0.639121    Val loss: 0.645378 Val acc: 0.635000\n",
      "Epoch:  2/ 5    Batch: 115   Batch loss: 0.615341    Val loss: 0.629121 Val acc: 0.642500\n",
      "Epoch:  2/ 5    Batch: 120   Batch loss: 0.656933    Val loss: 0.633075 Val acc: 0.662500\n",
      "Epoch:  2/ 5    Batch: 125   Batch loss: 0.713260    Val loss: 0.693898 Val acc: 0.562500\n",
      "104\n",
      "Finished epoch 2. Average batch loss: 0.6548701152205467. Average validation loss: 0.6682365393409362\n",
      "Starting epoch 3\n",
      "Epoch:  3/ 5    Batch: 130   Batch loss: 0.669205    Val loss: 0.653647 Val acc: 0.610000\n",
      "Epoch:  3/ 5    Batch: 135   Batch loss: 0.665249    Val loss: 0.658751 Val acc: 0.605000\n",
      "Epoch:  3/ 5    Batch: 140   Batch loss: 0.644876    Val loss: 0.686030 Val acc: 0.597500\n",
      "Epoch:  3/ 5    Batch: 145   Batch loss: 0.612012    Val loss: 0.695821 Val acc: 0.520000\n",
      "Epoch:  3/ 5    Batch: 150   Batch loss: 0.622998    Val loss: 0.669833 Val acc: 0.595000\n",
      "Epoch:  3/ 5    Batch: 155   Batch loss: 0.601159    Val loss: 0.646938 Val acc: 0.662500\n",
      "Epoch:  3/ 5    Batch: 160   Batch loss: 0.620411    Val loss: 0.654736 Val acc: 0.620000\n",
      "Epoch:  3/ 5    Batch: 165   Batch loss: 0.680085    Val loss: 0.651984 Val acc: 0.630000\n",
      "Epoch:  3/ 5    Batch: 170   Batch loss: 0.602477    Val loss: 0.656282 Val acc: 0.622500\n",
      "Epoch:  3/ 5    Batch: 175   Batch loss: 0.537895    Val loss: 0.630419 Val acc: 0.682500\n",
      "Epoch:  3/ 5    Batch: 180   Batch loss: 0.615324    Val loss: 0.651419 Val acc: 0.667500\n",
      "Epoch:  3/ 5    Batch: 185   Batch loss: 0.583261    Val loss: 0.659497 Val acc: 0.612500\n",
      "Epoch:  3/ 5    Batch: 190   Batch loss: 0.646570    Val loss: 0.686390 Val acc: 0.565000\n",
      "104\n",
      "Finished epoch 3. Average batch loss: 0.6340719144791365. Average validation loss: 0.6616728873207018\n",
      "Starting epoch 4\n",
      "Epoch:  4/ 5    Batch: 195   Batch loss: 0.560752    Val loss: 0.688936 Val acc: 0.595000\n",
      "Epoch:  4/ 5    Batch: 200   Batch loss: 0.517095    Val loss: 0.638178 Val acc: 0.645000\n",
      "Epoch:  4/ 5    Batch: 205   Batch loss: 0.537687    Val loss: 0.646768 Val acc: 0.650000\n",
      "Epoch:  4/ 5    Batch: 210   Batch loss: 0.546199    Val loss: 0.638979 Val acc: 0.642500\n",
      "Epoch:  4/ 5    Batch: 215   Batch loss: 0.568716    Val loss: 0.664609 Val acc: 0.657500\n",
      "Epoch:  4/ 5    Batch: 220   Batch loss: 0.573746    Val loss: 0.702436 Val acc: 0.602500\n",
      "Epoch:  4/ 5    Batch: 225   Batch loss: 0.620118    Val loss: 0.639263 Val acc: 0.657500\n",
      "Epoch:  4/ 5    Batch: 230   Batch loss: 0.587699    Val loss: 0.670426 Val acc: 0.630000\n",
      "Epoch:  4/ 5    Batch: 235   Batch loss: 0.573462    Val loss: 0.623483 Val acc: 0.652500\n",
      "Epoch:  4/ 5    Batch: 240   Batch loss: 0.591770    Val loss: 0.630340 Val acc: 0.657500\n",
      "Epoch:  4/ 5    Batch: 245   Batch loss: 0.649969    Val loss: 0.635565 Val acc: 0.675000\n",
      "Epoch:  4/ 5    Batch: 250   Batch loss: 0.542431    Val loss: 0.611039 Val acc: 0.670000\n",
      "Epoch:  4/ 5    Batch: 255   Batch loss: 0.510202    Val loss: 0.611627 Val acc: 0.670000\n",
      "104\n",
      "Finished epoch 4. Average batch loss: 0.5851269084960222. Average validation loss: 0.6462807967685736\n",
      "Starting epoch 5\n",
      "Epoch:  5/ 5    Batch: 260   Batch loss: 0.606891    Val loss: 0.617336 Val acc: 0.655000\n",
      "Epoch:  5/ 5    Batch: 265   Batch loss: 0.554439    Val loss: 0.601137 Val acc: 0.675000\n",
      "Epoch:  5/ 5    Batch: 270   Batch loss: 0.642147    Val loss: 0.592333 Val acc: 0.690000\n",
      "Epoch:  5/ 5    Batch: 275   Batch loss: 0.660487    Val loss: 0.624754 Val acc: 0.660000\n",
      "Epoch:  5/ 5    Batch: 280   Batch loss: 0.505920    Val loss: 0.598490 Val acc: 0.692500\n",
      "Epoch:  5/ 5    Batch: 285   Batch loss: 0.516001    Val loss: 0.610428 Val acc: 0.692500\n",
      "Epoch:  5/ 5    Batch: 290   Batch loss: 0.561946    Val loss: 0.611621 Val acc: 0.670000\n",
      "Epoch:  5/ 5    Batch: 295   Batch loss: 0.647404    Val loss: 0.595710 Val acc: 0.685000\n",
      "Epoch:  5/ 5    Batch: 300   Batch loss: 0.590792    Val loss: 0.672498 Val acc: 0.655000\n",
      "Epoch:  5/ 5    Batch: 305   Batch loss: 0.616716    Val loss: 0.704118 Val acc: 0.567500\n",
      "Epoch:  5/ 5    Batch: 310   Batch loss: 0.560655    Val loss: 0.665855 Val acc: 0.637500\n",
      "Epoch:  5/ 5    Batch: 315   Batch loss: 0.524080    Val loss: 0.621026 Val acc: 0.662500\n",
      "Epoch:  5/ 5    Batch: 320   Batch loss: 0.599723    Val loss: 0.631545 Val acc: 0.650000\n",
      "104\n",
      "Finished epoch 5. Average batch loss: 0.5907629285939038. Average validation loss: 0.6266808314965322\n"
     ]
    }
   ],
   "source": [
    "# Fit and evaluate a model with pretrained embeddings without fine-tuning.\n",
    "# YOUR CODE HERE\n",
    "\n",
    "vocab_size = len(word_ids) + 1  # +1 for the 0 padding\n",
    "embedding_dim = 100\n",
    "hidden_dim = 64\n",
    "num_layers = 1\n",
    "\n",
    "embedding_model = EmbeddingLSTM(vocab_size, embedding_dim, hidden_dim, num_layers, finetuning=False).to(DEVICE)\n",
    "reviews_train(embedding_model, train_loader, valid_loader, epochs=5, device=DEVICE)\n"
   ]
  },
  {
   "cell_type": "code",
   "execution_count": 29,
   "id": "06f429fd",
   "metadata": {},
   "outputs": [
    {
     "name": "stdout",
     "output_type": "stream",
     "text": [
      "Test loss: 0.603\n",
      "Test accuracy: 0.690\n"
     ]
    }
   ],
   "source": [
    "reviews_test(embedding_model, test_loader, device=DEVICE)"
   ]
  },
  {
   "cell_type": "code",
   "execution_count": 30,
   "id": "53110e0a",
   "metadata": {},
   "outputs": [
    {
     "name": "stdout",
     "output_type": "stream",
     "text": [
      "Initializing embedding layer with pretrained word embeddings...\n",
      "Initialized 29841/32363 word embeddings\n",
      "Starting epoch 1\n",
      "Epoch:  1/ 5    Batch:  5   Batch loss: 0.692048    Val loss: 0.683617 Val acc: 0.567500\n",
      "Epoch:  1/ 5    Batch: 10   Batch loss: 0.686108    Val loss: 0.676770 Val acc: 0.585000\n",
      "Epoch:  1/ 5    Batch: 15   Batch loss: 0.681123    Val loss: 0.681413 Val acc: 0.547500\n",
      "Epoch:  1/ 5    Batch: 20   Batch loss: 0.699391    Val loss: 0.675977 Val acc: 0.582500\n",
      "Epoch:  1/ 5    Batch: 25   Batch loss: 0.674776    Val loss: 0.673860 Val acc: 0.607500\n",
      "Epoch:  1/ 5    Batch: 30   Batch loss: 0.668833    Val loss: 0.675180 Val acc: 0.572500\n",
      "Epoch:  1/ 5    Batch: 35   Batch loss: 0.652374    Val loss: 0.671089 Val acc: 0.565000\n",
      "Epoch:  1/ 5    Batch: 40   Batch loss: 0.659105    Val loss: 0.709520 Val acc: 0.557500\n",
      "Epoch:  1/ 5    Batch: 45   Batch loss: 0.652515    Val loss: 0.665236 Val acc: 0.592500\n",
      "Epoch:  1/ 5    Batch: 50   Batch loss: 0.640147    Val loss: 0.671800 Val acc: 0.602500\n",
      "Epoch:  1/ 5    Batch: 55   Batch loss: 0.657240    Val loss: 0.659176 Val acc: 0.582500\n",
      "Epoch:  1/ 5    Batch: 60   Batch loss: 0.669158    Val loss: 0.655088 Val acc: 0.622500\n",
      "96\n",
      "Finished epoch 1. Average batch loss: 0.665737422183156. Average validation loss: 0.6748937026908001\n",
      "Starting epoch 2\n",
      "Epoch:  2/ 5    Batch: 65   Batch loss: 0.797063    Val loss: 0.705184 Val acc: 0.550000\n",
      "Epoch:  2/ 5    Batch: 70   Batch loss: 0.614427    Val loss: 0.640262 Val acc: 0.652500\n",
      "Epoch:  2/ 5    Batch: 75   Batch loss: 0.593997    Val loss: 0.643675 Val acc: 0.607500\n",
      "Epoch:  2/ 5    Batch: 80   Batch loss: 0.536356    Val loss: 0.638646 Val acc: 0.610000\n",
      "Epoch:  2/ 5    Batch: 85   Batch loss: 0.512985    Val loss: 0.668519 Val acc: 0.605000\n",
      "Epoch:  2/ 5    Batch: 90   Batch loss: 0.553879    Val loss: 0.625158 Val acc: 0.627500\n",
      "Epoch:  2/ 5    Batch: 95   Batch loss: 0.468676    Val loss: 0.615551 Val acc: 0.655000\n",
      "Epoch:  2/ 5    Batch: 100   Batch loss: 0.487068    Val loss: 0.592723 Val acc: 0.677500\n",
      "Epoch:  2/ 5    Batch: 105   Batch loss: 0.591973    Val loss: 0.625909 Val acc: 0.632500\n",
      "Epoch:  2/ 5    Batch: 110   Batch loss: 0.425671    Val loss: 0.591530 Val acc: 0.685000\n",
      "Epoch:  2/ 5    Batch: 115   Batch loss: 0.468000    Val loss: 0.584691 Val acc: 0.707500\n",
      "Epoch:  2/ 5    Batch: 120   Batch loss: 0.585555    Val loss: 0.773296 Val acc: 0.552500\n",
      "Epoch:  2/ 5    Batch: 125   Batch loss: 0.512674    Val loss: 0.596585 Val acc: 0.680000\n",
      "104\n",
      "Finished epoch 2. Average batch loss: 0.5768932444043458. Average validation loss: 0.63859448954463\n",
      "Starting epoch 3\n",
      "Epoch:  3/ 5    Batch: 130   Batch loss: 0.748074    Val loss: 0.597896 Val acc: 0.685000\n",
      "Epoch:  3/ 5    Batch: 135   Batch loss: 0.491664    Val loss: 0.595075 Val acc: 0.697500\n",
      "Epoch:  3/ 5    Batch: 140   Batch loss: 0.401920    Val loss: 0.846256 Val acc: 0.565000\n",
      "Epoch:  3/ 5    Batch: 145   Batch loss: 0.492336    Val loss: 0.587703 Val acc: 0.702500\n",
      "Epoch:  3/ 5    Batch: 150   Batch loss: 0.409437    Val loss: 0.639128 Val acc: 0.682500\n",
      "Epoch:  3/ 5    Batch: 155   Batch loss: 0.440972    Val loss: 0.647635 Val acc: 0.675000\n",
      "Epoch:  3/ 5    Batch: 160   Batch loss: 0.427859    Val loss: 0.716351 Val acc: 0.627500\n",
      "Epoch:  3/ 5    Batch: 165   Batch loss: 0.257529    Val loss: 0.585917 Val acc: 0.715000\n",
      "Epoch:  3/ 5    Batch: 170   Batch loss: 0.447018    Val loss: 0.574892 Val acc: 0.710000\n",
      "Epoch:  3/ 5    Batch: 175   Batch loss: 0.362525    Val loss: 0.677413 Val acc: 0.670000\n",
      "Epoch:  3/ 5    Batch: 180   Batch loss: 0.468480    Val loss: 0.561862 Val acc: 0.722500\n",
      "Epoch:  3/ 5    Batch: 185   Batch loss: 0.635923    Val loss: 0.575607 Val acc: 0.702500\n",
      "Epoch:  3/ 5    Batch: 190   Batch loss: 0.361530    Val loss: 0.862272 Val acc: 0.600000\n",
      "104\n",
      "Finished epoch 3. Average batch loss: 0.44285030057653785. Average validation loss: 0.651385215899119\n",
      "Starting epoch 4\n",
      "Epoch:  4/ 5    Batch: 195   Batch loss: 0.293396    Val loss: 0.570080 Val acc: 0.710000\n",
      "Epoch:  4/ 5    Batch: 200   Batch loss: 0.436107    Val loss: 0.588630 Val acc: 0.722500\n",
      "Epoch:  4/ 5    Batch: 205   Batch loss: 0.380544    Val loss: 0.596998 Val acc: 0.717500\n",
      "Epoch:  4/ 5    Batch: 210   Batch loss: 0.623843    Val loss: 0.585886 Val acc: 0.717500\n",
      "Epoch:  4/ 5    Batch: 215   Batch loss: 0.270947    Val loss: 0.599169 Val acc: 0.727500\n",
      "Epoch:  4/ 5    Batch: 220   Batch loss: 0.231376    Val loss: 0.589295 Val acc: 0.717500\n",
      "Epoch:  4/ 5    Batch: 225   Batch loss: 0.317937    Val loss: 0.578697 Val acc: 0.715000\n",
      "Epoch:  4/ 5    Batch: 230   Batch loss: 0.345304    Val loss: 0.656248 Val acc: 0.695000\n",
      "Epoch:  4/ 5    Batch: 235   Batch loss: 0.357956    Val loss: 0.598027 Val acc: 0.720000\n",
      "Epoch:  4/ 5    Batch: 240   Batch loss: 0.357242    Val loss: 0.575256 Val acc: 0.727500\n",
      "Epoch:  4/ 5    Batch: 245   Batch loss: 0.143588    Val loss: 0.602637 Val acc: 0.735000\n",
      "Epoch:  4/ 5    Batch: 250   Batch loss: 0.335362    Val loss: 0.585636 Val acc: 0.707500\n",
      "Epoch:  4/ 5    Batch: 255   Batch loss: 0.255581    Val loss: 0.620078 Val acc: 0.725000\n",
      "104\n",
      "Finished epoch 4. Average batch loss: 0.33406108035705984. Average validation loss: 0.595895138497536\n",
      "Starting epoch 5\n",
      "Epoch:  5/ 5    Batch: 260   Batch loss: 0.205162    Val loss: 0.640056 Val acc: 0.720000\n",
      "Epoch:  5/ 5    Batch: 265   Batch loss: 0.188250    Val loss: 0.611410 Val acc: 0.727500\n",
      "Epoch:  5/ 5    Batch: 270   Batch loss: 0.206379    Val loss: 0.627872 Val acc: 0.742500\n",
      "Epoch:  5/ 5    Batch: 275   Batch loss: 0.221950    Val loss: 0.617302 Val acc: 0.730000\n",
      "Epoch:  5/ 5    Batch: 280   Batch loss: 0.231467    Val loss: 0.608616 Val acc: 0.730000\n",
      "Epoch:  5/ 5    Batch: 285   Batch loss: 0.136017    Val loss: 0.630448 Val acc: 0.740000\n",
      "Epoch:  5/ 5    Batch: 290   Batch loss: 0.235295    Val loss: 0.621983 Val acc: 0.717500\n",
      "Epoch:  5/ 5    Batch: 295   Batch loss: 0.282836    Val loss: 0.607980 Val acc: 0.727500\n",
      "Epoch:  5/ 5    Batch: 300   Batch loss: 0.356837    Val loss: 0.661660 Val acc: 0.715000\n",
      "Epoch:  5/ 5    Batch: 305   Batch loss: 0.201363    Val loss: 0.616325 Val acc: 0.720000\n",
      "Epoch:  5/ 5    Batch: 310   Batch loss: 0.187999    Val loss: 0.602014 Val acc: 0.742500\n",
      "Epoch:  5/ 5    Batch: 315   Batch loss: 0.279285    Val loss: 0.594008 Val acc: 0.720000\n",
      "Epoch:  5/ 5    Batch: 320   Batch loss: 0.293637    Val loss: 0.614539 Val acc: 0.745000\n",
      "104\n",
      "Finished epoch 5. Average batch loss: 0.24512694729492068. Average validation loss: 0.6195548317180231\n"
     ]
    }
   ],
   "source": [
    "# Fit and evaluate a model with pretrained embeddings with fine-tuning.\n",
    "# YOUR CODE HERE\n",
    "vocab_size = len(word_ids) + 1  # +1 for the 0 padding\n",
    "embedding_dim = 100\n",
    "hidden_dim = 64\n",
    "num_layers = 1\n",
    "\n",
    "embedding_model = EmbeddingLSTM(vocab_size, embedding_dim, hidden_dim, num_layers, finetuning=True).to(DEVICE)\n",
    "reviews_train(embedding_model, train_loader, valid_loader, epochs=5, device=DEVICE)"
   ]
  },
  {
   "cell_type": "code",
   "execution_count": 31,
   "id": "2393de65",
   "metadata": {},
   "outputs": [
    {
     "name": "stdout",
     "output_type": "stream",
     "text": [
      "Test loss: 0.499\n",
      "Test accuracy: 0.777\n"
     ]
    }
   ],
   "source": [
    "reviews_test(embedding_model, test_loader, device=DEVICE)"
   ]
  },
  {
   "cell_type": "markdown",
   "id": "74b0968e",
   "metadata": {},
   "source": [
    "## 2e Sandbox"
   ]
  },
  {
   "cell_type": "code",
   "execution_count": null,
   "id": "431b9183",
   "metadata": {
    "collapsed": false
   },
   "outputs": [],
   "source": [
    "# Explore different architectures and hyperparameters."
   ]
  }
 ],
 "metadata": {
  "interpreter": {
   "hash": "36cf2ba649d63ea02a221c132cc4497a7777afeaff3ccd7acc3a3ef0aa2b12ef"
  },
  "kernelspec": {
   "display_name": "Python 3.9.7 ('mtp-ai-turing-tumble')",
   "language": "python",
   "name": "python3"
  },
  "language_info": {
   "codemirror_mode": {
    "name": "ipython",
    "version": 3
   },
   "file_extension": ".py",
   "mimetype": "text/x-python",
   "name": "python",
   "nbconvert_exporter": "python",
   "pygments_lexer": "ipython3",
   "version": "3.9.7"
  }
 },
 "nbformat": 4,
 "nbformat_minor": 5
}
